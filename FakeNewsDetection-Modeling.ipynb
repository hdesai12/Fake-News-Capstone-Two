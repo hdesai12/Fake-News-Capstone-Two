{
 "cells": [
  {
   "cell_type": "code",
   "execution_count": 1,
   "id": "2db7d458-7445-4d4c-92f5-fcd0dc36c883",
   "metadata": {},
   "outputs": [],
   "source": [
    "# import all needed packages \n",
    "import pandas as pd\n",
    "import numpy as np\n",
    "import matplotlib.pyplot as plt\n",
    "import seaborn as sns\n",
    "import os\n",
    "\n",
    "import catboost as cb\n",
    "from catboost import CatBoostClassifier\n",
    "from sklearn.model_selection import train_test_split, cross_validate, GridSearchCV\n",
    "from sklearn.metrics import confusion_matrix, classification_report, fbeta_score, roc_curve, roc_auc_score\n",
    "from sklearn.feature_extraction.text import TfidfVectorizer, CountVectorizer\n",
    "from sklearn.linear_model import LogisticRegression\n",
    "from sklearn.preprocessing import scale\n",
    "from sklearn.decomposition import PCA\n",
    "\n",
    "from sklearn import metrics\n",
    "from sklearn.metrics import precision_recall_curve\n",
    "from sklearn.metrics import balanced_accuracy_score\n",
    "from sklearn.metrics import accuracy_score"
   ]
  },
  {
   "cell_type": "code",
   "execution_count": 2,
   "id": "f7812075-e46b-47bf-9222-853e8eee24e5",
   "metadata": {},
   "outputs": [],
   "source": [
    "# import the data and turn into dataframe \n",
    "fake_news_data = pd.read_csv('../raw_data/train.csv')"
   ]
  },
  {
   "cell_type": "code",
   "execution_count": 3,
   "id": "aa12c1ec-884d-4983-b561-20146cd69682",
   "metadata": {},
   "outputs": [
    {
     "data": {
      "text/plain": [
       "0    Says the Annies List political group supports ...\n",
       "1    When did the decline of coal start? It started...\n",
       "2    Hillary Clinton agrees with John McCain \"by vo...\n",
       "3    Health care reform legislation is likely to ma...\n",
       "4    The economic turnaround started at the end of ...\n",
       "Name: statement, dtype: object"
      ]
     },
     "execution_count": 3,
     "metadata": {},
     "output_type": "execute_result"
    }
   ],
   "source": [
    "# This is the feild that we are interseted in \n",
    "fake_news_data['statement'].head()"
   ]
  },
  {
   "cell_type": "code",
   "execution_count": 4,
   "id": "e781e131-520f-4226-8910-5ed7ff618af4",
   "metadata": {},
   "outputs": [],
   "source": [
    "# the statement feild does not show the full text so, we use set_option to get full text. \n",
    "pd.set_option(\"display.max_colwidth\", None)"
   ]
  },
  {
   "cell_type": "code",
   "execution_count": 5,
   "id": "abc6e1b5-6462-43e0-ad95-9b221bb9c6f4",
   "metadata": {},
   "outputs": [
    {
     "data": {
      "text/plain": [
       "0                                                               Says the Annies List political group supports third-trimester abortions on demand.\n",
       "1    When did the decline of coal start? It started when natural gas took off that started to begin in (President George W.) Bushs administration.\n",
       "2                                        Hillary Clinton agrees with John McCain \"by voting to give George Bush the benefit of the doubt on Iran.\"\n",
       "3                                                                   Health care reform legislation is likely to mandate free sex change surgeries.\n",
       "4                                                                                           The economic turnaround started at the end of my term.\n",
       "Name: statement, dtype: object"
      ]
     },
     "execution_count": 5,
     "metadata": {},
     "output_type": "execute_result"
    }
   ],
   "source": [
    "fake_news_data['statement'].head()"
   ]
  },
  {
   "cell_type": "code",
   "execution_count": 6,
   "id": "9b5db43e-9911-48c8-af38-30be085b69c5",
   "metadata": {},
   "outputs": [],
   "source": [
    "fake_news_data['statement'] = fake_news_data['statement'].str.lower()"
   ]
  },
  {
   "cell_type": "code",
   "execution_count": 7,
   "id": "fa9ccca3-0914-4aad-a442-8c997aafb9ef",
   "metadata": {},
   "outputs": [
    {
     "data": {
      "text/plain": [
       "label\n",
       "false          5100\n",
       "half-true      2361\n",
       "mostly-true    2213\n",
       "true           1845\n",
       "Name: count, dtype: int64"
      ]
     },
     "execution_count": 7,
     "metadata": {},
     "output_type": "execute_result"
    }
   ],
   "source": [
    "# replace \"pants-fire\", \"barely-true\" to \"false\"\n",
    "fake_news_data['label'] = fake_news_data['label'].replace(['pants-fire', 'barely-true'],'false')\n",
    "fake_news_data['label'].value_counts()"
   ]
  },
  {
   "cell_type": "code",
   "execution_count": 8,
   "id": "216b1275-f737-473d-b424-7caf46574ad1",
   "metadata": {},
   "outputs": [
    {
     "data": {
      "text/plain": [
       "label\n",
       "true     6419\n",
       "false    5100\n",
       "Name: count, dtype: int64"
      ]
     },
     "execution_count": 8,
     "metadata": {},
     "output_type": "execute_result"
    }
   ],
   "source": [
    "# replace \"half-true\", \"mostly-true\" to \"true\"\n",
    "fake_news_data['label'] = fake_news_data['label'].replace(['half-true', 'mostly-true'],'true')\n",
    "fake_news_data['label'].value_counts()"
   ]
  },
  {
   "cell_type": "code",
   "execution_count": 9,
   "id": "edf82aea-754c-4033-ad2b-6574d3a68c8b",
   "metadata": {},
   "outputs": [],
   "source": [
    "fake_news_data[fake_news_data.duplicated()]\n",
    "fake_news_data = fake_news_data.drop_duplicates()"
   ]
  },
  {
   "cell_type": "code",
   "execution_count": 10,
   "id": "c07c5b3c-638c-4e76-99d3-1043e314e001",
   "metadata": {},
   "outputs": [],
   "source": [
    "fake_news_data['statement'] = fake_news_data['statement'].replace(r'[^\\s\\w0-9]', '', regex=True)"
   ]
  },
  {
   "cell_type": "code",
   "execution_count": 11,
   "id": "ffe513e7-4e63-4f75-9e50-53c94e533d61",
   "metadata": {},
   "outputs": [],
   "source": [
    "# some of the states had missed spelled state name or in different format so we change them to same.\n",
    "fake_news_data['state_info'] = fake_news_data['state_info'].replace([\"District of Columbia\", \"Washington D.C.\", \"Washington, D.C.\", \"Washington DC\"], \"Washington D.C.\")\n",
    "fake_news_data['state_info'] = fake_news_data['state_info'].replace([\"Tex\", \"Texas\"], \"Texas\")\n",
    "fake_news_data['state_info'] = fake_news_data['state_info'].replace([\"Washington\", \"Washington state\"], \"Washington\")\n",
    "fake_news_data['state_info'] = fake_news_data['state_info'].replace([\"Virginia\", \"Virgina\", \"Virgiia\"], \"Virginia\")\n",
    "fake_news_data['state_info'] = fake_news_data['state_info'].replace([\"Pennsylvania\", \"PA - Pennsylvania\"], \"Pennsylvania\")\n",
    "fake_news_data['state_info'] = fake_news_data['state_info'].replace([\"Rhode Island\", \"Rhode island\"], \"Rhode Island\")\n",
    "fake_news_data['state_info'] = fake_news_data['state_info'].replace([\"Ohio\", \"ohio\"], \"Ohio\")\n",
    "fake_news_data['state_info'] = fake_news_data['state_info'].replace([\"Tennessee\", \"Tennesse\"], \"Tennessee\")"
   ]
  },
  {
   "cell_type": "code",
   "execution_count": 12,
   "id": "482e08f3-36a4-4e70-89c9-c8ec9fb124fa",
   "metadata": {},
   "outputs": [],
   "source": [
    "us_state = ['Alabama','Alaska','Arizona','Arkansas','California','Colorado','Connecticut','Delaware','Florida','Georgia','Hawaii','Idaho','Illinois',\n",
    "            'Indiana','Iowa','Kansas','Kentucky','Louisiana','Maine','Maryland','Massachusetts','Michigan','Minnesota','Mississippi','Missouri','Montana',\n",
    "            'Nebraska','Nevada','New Hampshire','New Jersey','New Mexico','New York','North Carolina','North Dakota','Ohio','Oklahoma','Oregon',\n",
    "            'Pennsylvania','Rhode Island','South Carolina','South Dakota','Tennessee','Texas','Utah','Vermont','Virginia','Washington','West Virginia',\n",
    "            'Wisconsin','Wyoming','District of Columbia', 'Washington, D.C.']\n",
    "\n",
    "fake_news_data = fake_news_data[fake_news_data['state_info'].isin(us_state)]"
   ]
  },
  {
   "cell_type": "code",
   "execution_count": 13,
   "id": "ae7f5460-98f7-469d-8b8a-09074d24b707",
   "metadata": {},
   "outputs": [
    {
     "name": "stderr",
     "output_type": "stream",
     "text": [
      "C:\\Users\\17326\\AppData\\Local\\Temp\\ipykernel_23468\\1966270977.py:1: FutureWarning: Downcasting behavior in `replace` is deprecated and will be removed in a future version. To retain the old behavior, explicitly call `result.infer_objects(copy=False)`. To opt-in to the future behavior, set `pd.set_option('future.no_silent_downcasting', True)`\n",
      "  fake_news_data['num_label'] = fake_news_data['label'].replace({'false' : 0, 'true' : 1})\n"
     ]
    }
   ],
   "source": [
    "fake_news_data['num_label'] = fake_news_data['label'].replace({'false' : 0, 'true' : 1})"
   ]
  },
  {
   "cell_type": "code",
   "execution_count": 14,
   "id": "2d038fc1-750b-4c9a-b448-11a710a57400",
   "metadata": {},
   "outputs": [
    {
     "data": {
      "text/html": [
       "<div>\n",
       "<style scoped>\n",
       "    .dataframe tbody tr th:only-of-type {\n",
       "        vertical-align: middle;\n",
       "    }\n",
       "\n",
       "    .dataframe tbody tr th {\n",
       "        vertical-align: top;\n",
       "    }\n",
       "\n",
       "    .dataframe thead th {\n",
       "        text-align: right;\n",
       "    }\n",
       "</style>\n",
       "<table border=\"1\" class=\"dataframe\">\n",
       "  <thead>\n",
       "    <tr style=\"text-align: right;\">\n",
       "      <th></th>\n",
       "      <th>ID</th>\n",
       "      <th>label</th>\n",
       "      <th>statement</th>\n",
       "      <th>subject</th>\n",
       "      <th>speaker</th>\n",
       "      <th>speaker_job</th>\n",
       "      <th>state_info</th>\n",
       "      <th>party_affiliation</th>\n",
       "      <th>barely_true_counts</th>\n",
       "      <th>false_counts</th>\n",
       "      <th>...</th>\n",
       "      <th>sentiment_magnitude</th>\n",
       "      <th>anger</th>\n",
       "      <th>fear</th>\n",
       "      <th>joy</th>\n",
       "      <th>disgust</th>\n",
       "      <th>sad</th>\n",
       "      <th>speaker_id</th>\n",
       "      <th>list</th>\n",
       "      <th>sentiment_code</th>\n",
       "      <th>num_label</th>\n",
       "    </tr>\n",
       "  </thead>\n",
       "  <tbody>\n",
       "    <tr>\n",
       "      <th>0</th>\n",
       "      <td>2635.json</td>\n",
       "      <td>false</td>\n",
       "      <td>says the annies list political group supports thirdtrimester abortions on demand</td>\n",
       "      <td>abortion</td>\n",
       "      <td>dwayne-bohac</td>\n",
       "      <td>State representative</td>\n",
       "      <td>Texas</td>\n",
       "      <td>republican</td>\n",
       "      <td>0.0</td>\n",
       "      <td>1.0</td>\n",
       "      <td>...</td>\n",
       "      <td>0.5</td>\n",
       "      <td>0.121137</td>\n",
       "      <td>0.008926</td>\n",
       "      <td>0.026096</td>\n",
       "      <td>0.263479</td>\n",
       "      <td>0.531887</td>\n",
       "      <td>_0_</td>\n",
       "      <td>[0, 1]</td>\n",
       "      <td>_NEG_</td>\n",
       "      <td>0</td>\n",
       "    </tr>\n",
       "    <tr>\n",
       "      <th>1</th>\n",
       "      <td>10540.json</td>\n",
       "      <td>true</td>\n",
       "      <td>when did the decline of coal start it started when natural gas took off that started to begin in president george w bushs administration</td>\n",
       "      <td>energy,history,job-accomplishments</td>\n",
       "      <td>scott-surovell</td>\n",
       "      <td>State delegate</td>\n",
       "      <td>Virginia</td>\n",
       "      <td>democrat</td>\n",
       "      <td>0.0</td>\n",
       "      <td>0.0</td>\n",
       "      <td>...</td>\n",
       "      <td>0.8</td>\n",
       "      <td>0.095352</td>\n",
       "      <td>0.124566</td>\n",
       "      <td>0.191357</td>\n",
       "      <td>0.016999</td>\n",
       "      <td>0.102045</td>\n",
       "      <td>_1_</td>\n",
       "      <td>[0, 1]</td>\n",
       "      <td>_NEG_</td>\n",
       "      <td>1</td>\n",
       "    </tr>\n",
       "    <tr>\n",
       "      <th>2</th>\n",
       "      <td>324.json</td>\n",
       "      <td>true</td>\n",
       "      <td>hillary clinton agrees with john mccain by voting to give george bush the benefit of the doubt on iran</td>\n",
       "      <td>foreign-policy</td>\n",
       "      <td>barack-obama</td>\n",
       "      <td>President</td>\n",
       "      <td>Illinois</td>\n",
       "      <td>democrat</td>\n",
       "      <td>70.0</td>\n",
       "      <td>71.0</td>\n",
       "      <td>...</td>\n",
       "      <td>0.3</td>\n",
       "      <td>0.039559</td>\n",
       "      <td>0.024162</td>\n",
       "      <td>0.500384</td>\n",
       "      <td>0.454228</td>\n",
       "      <td>0.052453</td>\n",
       "      <td>_2_</td>\n",
       "      <td>[1, 0]</td>\n",
       "      <td>_NEG_</td>\n",
       "      <td>1</td>\n",
       "    </tr>\n",
       "    <tr>\n",
       "      <th>4</th>\n",
       "      <td>9028.json</td>\n",
       "      <td>true</td>\n",
       "      <td>the economic turnaround started at the end of my term</td>\n",
       "      <td>economy,jobs</td>\n",
       "      <td>charlie-crist</td>\n",
       "      <td>NaN</td>\n",
       "      <td>Florida</td>\n",
       "      <td>democrat</td>\n",
       "      <td>15.0</td>\n",
       "      <td>9.0</td>\n",
       "      <td>...</td>\n",
       "      <td>0.0</td>\n",
       "      <td>0.044237</td>\n",
       "      <td>0.215996</td>\n",
       "      <td>0.222402</td>\n",
       "      <td>0.045672</td>\n",
       "      <td>0.274343</td>\n",
       "      <td>_4_</td>\n",
       "      <td>[0, 1]</td>\n",
       "      <td>NaN</td>\n",
       "      <td>1</td>\n",
       "    </tr>\n",
       "    <tr>\n",
       "      <th>5</th>\n",
       "      <td>12465.json</td>\n",
       "      <td>true</td>\n",
       "      <td>the chicago bears have had more starting quarterbacks in the last 10 years than the total number of tenured uw faculty fired during the last two decades</td>\n",
       "      <td>education</td>\n",
       "      <td>robin-vos</td>\n",
       "      <td>Wisconsin Assembly speaker</td>\n",
       "      <td>Wisconsin</td>\n",
       "      <td>republican</td>\n",
       "      <td>0.0</td>\n",
       "      <td>3.0</td>\n",
       "      <td>...</td>\n",
       "      <td>0.3</td>\n",
       "      <td>0.044534</td>\n",
       "      <td>0.037243</td>\n",
       "      <td>0.294698</td>\n",
       "      <td>0.035936</td>\n",
       "      <td>0.598971</td>\n",
       "      <td>_5_</td>\n",
       "      <td>[1, 0]</td>\n",
       "      <td>_NEG_</td>\n",
       "      <td>1</td>\n",
       "    </tr>\n",
       "  </tbody>\n",
       "</table>\n",
       "<p>5 rows × 26 columns</p>\n",
       "</div>"
      ],
      "text/plain": [
       "           ID  label  \\\n",
       "0   2635.json  false   \n",
       "1  10540.json   true   \n",
       "2    324.json   true   \n",
       "4   9028.json   true   \n",
       "5  12465.json   true   \n",
       "\n",
       "                                                                                                                                                  statement  \\\n",
       "0                                                                          says the annies list political group supports thirdtrimester abortions on demand   \n",
       "1                  when did the decline of coal start it started when natural gas took off that started to begin in president george w bushs administration   \n",
       "2                                                    hillary clinton agrees with john mccain by voting to give george bush the benefit of the doubt on iran   \n",
       "4                                                                                                     the economic turnaround started at the end of my term   \n",
       "5  the chicago bears have had more starting quarterbacks in the last 10 years than the total number of tenured uw faculty fired during the last two decades   \n",
       "\n",
       "                              subject         speaker  \\\n",
       "0                            abortion    dwayne-bohac   \n",
       "1  energy,history,job-accomplishments  scott-surovell   \n",
       "2                      foreign-policy    barack-obama   \n",
       "4                        economy,jobs   charlie-crist   \n",
       "5                           education       robin-vos   \n",
       "\n",
       "                  speaker_job state_info party_affiliation  \\\n",
       "0        State representative      Texas        republican   \n",
       "1              State delegate   Virginia          democrat   \n",
       "2                   President   Illinois          democrat   \n",
       "4                         NaN    Florida          democrat   \n",
       "5  Wisconsin Assembly speaker  Wisconsin        republican   \n",
       "\n",
       "   barely_true_counts  false_counts  ...  sentiment_magnitude     anger  \\\n",
       "0                 0.0           1.0  ...                  0.5  0.121137   \n",
       "1                 0.0           0.0  ...                  0.8  0.095352   \n",
       "2                70.0          71.0  ...                  0.3  0.039559   \n",
       "4                15.0           9.0  ...                  0.0  0.044237   \n",
       "5                 0.0           3.0  ...                  0.3  0.044534   \n",
       "\n",
       "       fear       joy   disgust       sad  speaker_id    list  sentiment_code  \\\n",
       "0  0.008926  0.026096  0.263479  0.531887         _0_  [0, 1]           _NEG_   \n",
       "1  0.124566  0.191357  0.016999  0.102045         _1_  [0, 1]           _NEG_   \n",
       "2  0.024162  0.500384  0.454228  0.052453         _2_  [1, 0]           _NEG_   \n",
       "4  0.215996  0.222402  0.045672  0.274343         _4_  [0, 1]             NaN   \n",
       "5  0.037243  0.294698  0.035936  0.598971         _5_  [1, 0]           _NEG_   \n",
       "\n",
       "   num_label  \n",
       "0          0  \n",
       "1          1  \n",
       "2          1  \n",
       "4          1  \n",
       "5          1  \n",
       "\n",
       "[5 rows x 26 columns]"
      ]
     },
     "execution_count": 14,
     "metadata": {},
     "output_type": "execute_result"
    }
   ],
   "source": [
    "fake_news_data.head()"
   ]
  },
  {
   "cell_type": "code",
   "execution_count": 15,
   "id": "bdb0b4d6-403d-4be2-83dd-7f4027cce025",
   "metadata": {},
   "outputs": [],
   "source": [
    "# Select features and target\n",
    "X = fake_news_data['statement']\n",
    "y = fake_news_data['num_label']\n",
    "\n",
    "vectorization = CountVectorizer(min_df=60, stop_words='english')\n",
    "vectorization2 = TfidfVectorizer(min_df=60, stop_words='english')\n",
    "\n",
    "# Split the data\n",
    "X_train, X_test, y_train, y_test = train_test_split(X, y, test_size=0.2, random_state=42)\n",
    "\n",
    "# using CountVectorizer\n",
    "xv_train = vectorization.fit_transform(X_train)\n",
    "xv_test = vectorization.transform(X_test)\n",
    "\n",
    "# using TfidfVectorizer\n",
    "xv_train2 = vectorization2.fit_transform(X_train)\n",
    "xv_test2 = vectorization2.transform(X_test)"
   ]
  },
  {
   "cell_type": "code",
   "execution_count": 16,
   "id": "0f49d9f4-b93d-4280-b534-fdc1eb463136",
   "metadata": {},
   "outputs": [],
   "source": [
    "### After evalutaing models like CatBoost, RandomForset we seleceted LogisticRegression as the final model. ###"
   ]
  },
  {
   "cell_type": "code",
   "execution_count": 17,
   "id": "766a2970-eb24-4dd9-8c83-68e78ac1824b",
   "metadata": {},
   "outputs": [],
   "source": [
    "model = LogisticRegression()\n",
    "model.fit(xv_train2, y_train)\n",
    "y_pred = model.predict(xv_test)"
   ]
  },
  {
   "cell_type": "code",
   "execution_count": 18,
   "id": "e8f60781-c035-4a97-a874-2717b32a7228",
   "metadata": {},
   "outputs": [
    {
     "data": {
      "text/plain": [
       "0.601699716713881"
      ]
     },
     "execution_count": 18,
     "metadata": {},
     "output_type": "execute_result"
    }
   ],
   "source": [
    "# fbeta_score with more focus on recall. don’t miss real fake news \n",
    "fbeta_score(y_test, y_pred, average='micro', beta=2) "
   ]
  },
  {
   "cell_type": "code",
   "execution_count": 19,
   "id": "a3c2e028-f0f5-4fc0-b3e6-f656a0b046fb",
   "metadata": {},
   "outputs": [
    {
     "data": {
      "text/plain": [
       "0.6"
      ]
     },
     "execution_count": 19,
     "metadata": {},
     "output_type": "execute_result"
    }
   ],
   "source": [
    "model.fit(xv_train2, y_train)\n",
    "y_predd = model.predict(xv_test2)\n",
    "fbeta_score(y_test, y_predd, average='micro', beta=0.5)"
   ]
  },
  {
   "cell_type": "code",
   "execution_count": 20,
   "id": "2b00fc06-0c06-40e1-ab01-6b083779465a",
   "metadata": {},
   "outputs": [
    {
     "data": {
      "text/plain": [
       "array([[277, 493],\n",
       "       [210, 785]], dtype=int64)"
      ]
     },
     "execution_count": 20,
     "metadata": {},
     "output_type": "execute_result"
    }
   ],
   "source": [
    "confusion_matrix(y_test, y_pred)"
   ]
  },
  {
   "cell_type": "code",
   "execution_count": 21,
   "id": "f09a52d5-f381-4592-b24c-a7b115624855",
   "metadata": {},
   "outputs": [
    {
     "name": "stdout",
     "output_type": "stream",
     "text": [
      "              precision    recall  f1-score   support\n",
      "\n",
      "           0       0.57      0.36      0.44       770\n",
      "           1       0.61      0.79      0.69       995\n",
      "\n",
      "    accuracy                           0.60      1765\n",
      "   macro avg       0.59      0.57      0.57      1765\n",
      "weighted avg       0.59      0.60      0.58      1765\n",
      "\n"
     ]
    }
   ],
   "source": [
    "print(classification_report(y_test, y_pred))"
   ]
  },
  {
   "cell_type": "code",
   "execution_count": 22,
   "id": "a2d5d3e6-69f4-4501-a0c6-389cde0d5761",
   "metadata": {},
   "outputs": [],
   "source": [
    "# cross-validatation for LogisticRegression\n",
    "cv_results = cross_validate(model, xv_train2, y_train, cv=5)"
   ]
  },
  {
   "cell_type": "code",
   "execution_count": 23,
   "id": "dc7d56a2-ca33-4e58-86bf-31805de0d479",
   "metadata": {},
   "outputs": [
    {
     "data": {
      "text/plain": [
       "array([0.601983  , 0.59490085, 0.58711048, 0.59915014, 0.60269122])"
      ]
     },
     "execution_count": 23,
     "metadata": {},
     "output_type": "execute_result"
    }
   ],
   "source": [
    "cv_scores = cv_results['test_score']\n",
    "cv_scores"
   ]
  },
  {
   "cell_type": "code",
   "execution_count": 24,
   "id": "a9f1e10c-1959-44eb-8d26-463bfeaa12a0",
   "metadata": {},
   "outputs": [
    {
     "data": {
      "text/plain": [
       "(0.5971671388101983, 0.005725604229860562)"
      ]
     },
     "execution_count": 24,
     "metadata": {},
     "output_type": "execute_result"
    }
   ],
   "source": [
    "np.mean(cv_scores), np.std(cv_scores)"
   ]
  },
  {
   "cell_type": "code",
   "execution_count": 25,
   "id": "b4e71998-2149-4967-a0b7-02b39e155f98",
   "metadata": {},
   "outputs": [
    {
     "name": "stderr",
     "output_type": "stream",
     "text": [
      "C:\\Users\\17326\\Documents\\temp\\Lib\\site-packages\\sklearn\\model_selection\\_validation.py:540: FitFailedWarning: \n",
      "60 fits failed out of a total of 180.\n",
      "The score on these train-test partitions for these parameters will be set to nan.\n",
      "If these failures are not expected, you can try to debug them by setting error_score='raise'.\n",
      "\n",
      "Below are more details about the failures:\n",
      "--------------------------------------------------------------------------------\n",
      "60 fits failed with the following error:\n",
      "Traceback (most recent call last):\n",
      "  File \"C:\\Users\\17326\\Documents\\temp\\Lib\\site-packages\\sklearn\\model_selection\\_validation.py\", line 888, in _fit_and_score\n",
      "    estimator.fit(X_train, y_train, **fit_params)\n",
      "  File \"C:\\Users\\17326\\Documents\\temp\\Lib\\site-packages\\sklearn\\base.py\", line 1473, in wrapper\n",
      "    return fit_method(estimator, *args, **kwargs)\n",
      "           ^^^^^^^^^^^^^^^^^^^^^^^^^^^^^^^^^^^^^^\n",
      "  File \"C:\\Users\\17326\\Documents\\temp\\Lib\\site-packages\\sklearn\\linear_model\\_logistic.py\", line 1204, in fit\n",
      "    raise ValueError(\"l1_ratio must be specified when penalty is elasticnet.\")\n",
      "ValueError: l1_ratio must be specified when penalty is elasticnet.\n",
      "\n",
      "  warnings.warn(some_fits_failed_message, FitFailedWarning)\n",
      "C:\\Users\\17326\\Documents\\temp\\Lib\\site-packages\\sklearn\\model_selection\\_search.py:1102: UserWarning: One or more of the test scores are non-finite: [0.5        0.60913174        nan 0.5        0.60912228        nan\n",
      " 0.5        0.60915973        nan 0.56412053 0.61271245        nan\n",
      " 0.56387212 0.61272069        nan 0.56411765 0.61270092        nan\n",
      " 0.60949766 0.61043544        nan 0.60948983 0.61041815        nan\n",
      " 0.60964007 0.61046054        nan 0.60876419 0.60869157        nan\n",
      " 0.60879403 0.60861213        nan 0.60880657 0.60860759        nan]\n",
      "  warnings.warn(\n"
     ]
    },
    {
     "data": {
      "text/html": [
       "<style>#sk-container-id-1 {\n",
       "  /* Definition of color scheme common for light and dark mode */\n",
       "  --sklearn-color-text: black;\n",
       "  --sklearn-color-line: gray;\n",
       "  /* Definition of color scheme for unfitted estimators */\n",
       "  --sklearn-color-unfitted-level-0: #fff5e6;\n",
       "  --sklearn-color-unfitted-level-1: #f6e4d2;\n",
       "  --sklearn-color-unfitted-level-2: #ffe0b3;\n",
       "  --sklearn-color-unfitted-level-3: chocolate;\n",
       "  /* Definition of color scheme for fitted estimators */\n",
       "  --sklearn-color-fitted-level-0: #f0f8ff;\n",
       "  --sklearn-color-fitted-level-1: #d4ebff;\n",
       "  --sklearn-color-fitted-level-2: #b3dbfd;\n",
       "  --sklearn-color-fitted-level-3: cornflowerblue;\n",
       "\n",
       "  /* Specific color for light theme */\n",
       "  --sklearn-color-text-on-default-background: var(--sg-text-color, var(--theme-code-foreground, var(--jp-content-font-color1, black)));\n",
       "  --sklearn-color-background: var(--sg-background-color, var(--theme-background, var(--jp-layout-color0, white)));\n",
       "  --sklearn-color-border-box: var(--sg-text-color, var(--theme-code-foreground, var(--jp-content-font-color1, black)));\n",
       "  --sklearn-color-icon: #696969;\n",
       "\n",
       "  @media (prefers-color-scheme: dark) {\n",
       "    /* Redefinition of color scheme for dark theme */\n",
       "    --sklearn-color-text-on-default-background: var(--sg-text-color, var(--theme-code-foreground, var(--jp-content-font-color1, white)));\n",
       "    --sklearn-color-background: var(--sg-background-color, var(--theme-background, var(--jp-layout-color0, #111)));\n",
       "    --sklearn-color-border-box: var(--sg-text-color, var(--theme-code-foreground, var(--jp-content-font-color1, white)));\n",
       "    --sklearn-color-icon: #878787;\n",
       "  }\n",
       "}\n",
       "\n",
       "#sk-container-id-1 {\n",
       "  color: var(--sklearn-color-text);\n",
       "}\n",
       "\n",
       "#sk-container-id-1 pre {\n",
       "  padding: 0;\n",
       "}\n",
       "\n",
       "#sk-container-id-1 input.sk-hidden--visually {\n",
       "  border: 0;\n",
       "  clip: rect(1px 1px 1px 1px);\n",
       "  clip: rect(1px, 1px, 1px, 1px);\n",
       "  height: 1px;\n",
       "  margin: -1px;\n",
       "  overflow: hidden;\n",
       "  padding: 0;\n",
       "  position: absolute;\n",
       "  width: 1px;\n",
       "}\n",
       "\n",
       "#sk-container-id-1 div.sk-dashed-wrapped {\n",
       "  border: 1px dashed var(--sklearn-color-line);\n",
       "  margin: 0 0.4em 0.5em 0.4em;\n",
       "  box-sizing: border-box;\n",
       "  padding-bottom: 0.4em;\n",
       "  background-color: var(--sklearn-color-background);\n",
       "}\n",
       "\n",
       "#sk-container-id-1 div.sk-container {\n",
       "  /* jupyter's `normalize.less` sets `[hidden] { display: none; }`\n",
       "     but bootstrap.min.css set `[hidden] { display: none !important; }`\n",
       "     so we also need the `!important` here to be able to override the\n",
       "     default hidden behavior on the sphinx rendered scikit-learn.org.\n",
       "     See: https://github.com/scikit-learn/scikit-learn/issues/21755 */\n",
       "  display: inline-block !important;\n",
       "  position: relative;\n",
       "}\n",
       "\n",
       "#sk-container-id-1 div.sk-text-repr-fallback {\n",
       "  display: none;\n",
       "}\n",
       "\n",
       "div.sk-parallel-item,\n",
       "div.sk-serial,\n",
       "div.sk-item {\n",
       "  /* draw centered vertical line to link estimators */\n",
       "  background-image: linear-gradient(var(--sklearn-color-text-on-default-background), var(--sklearn-color-text-on-default-background));\n",
       "  background-size: 2px 100%;\n",
       "  background-repeat: no-repeat;\n",
       "  background-position: center center;\n",
       "}\n",
       "\n",
       "/* Parallel-specific style estimator block */\n",
       "\n",
       "#sk-container-id-1 div.sk-parallel-item::after {\n",
       "  content: \"\";\n",
       "  width: 100%;\n",
       "  border-bottom: 2px solid var(--sklearn-color-text-on-default-background);\n",
       "  flex-grow: 1;\n",
       "}\n",
       "\n",
       "#sk-container-id-1 div.sk-parallel {\n",
       "  display: flex;\n",
       "  align-items: stretch;\n",
       "  justify-content: center;\n",
       "  background-color: var(--sklearn-color-background);\n",
       "  position: relative;\n",
       "}\n",
       "\n",
       "#sk-container-id-1 div.sk-parallel-item {\n",
       "  display: flex;\n",
       "  flex-direction: column;\n",
       "}\n",
       "\n",
       "#sk-container-id-1 div.sk-parallel-item:first-child::after {\n",
       "  align-self: flex-end;\n",
       "  width: 50%;\n",
       "}\n",
       "\n",
       "#sk-container-id-1 div.sk-parallel-item:last-child::after {\n",
       "  align-self: flex-start;\n",
       "  width: 50%;\n",
       "}\n",
       "\n",
       "#sk-container-id-1 div.sk-parallel-item:only-child::after {\n",
       "  width: 0;\n",
       "}\n",
       "\n",
       "/* Serial-specific style estimator block */\n",
       "\n",
       "#sk-container-id-1 div.sk-serial {\n",
       "  display: flex;\n",
       "  flex-direction: column;\n",
       "  align-items: center;\n",
       "  background-color: var(--sklearn-color-background);\n",
       "  padding-right: 1em;\n",
       "  padding-left: 1em;\n",
       "}\n",
       "\n",
       "\n",
       "/* Toggleable style: style used for estimator/Pipeline/ColumnTransformer box that is\n",
       "clickable and can be expanded/collapsed.\n",
       "- Pipeline and ColumnTransformer use this feature and define the default style\n",
       "- Estimators will overwrite some part of the style using the `sk-estimator` class\n",
       "*/\n",
       "\n",
       "/* Pipeline and ColumnTransformer style (default) */\n",
       "\n",
       "#sk-container-id-1 div.sk-toggleable {\n",
       "  /* Default theme specific background. It is overwritten whether we have a\n",
       "  specific estimator or a Pipeline/ColumnTransformer */\n",
       "  background-color: var(--sklearn-color-background);\n",
       "}\n",
       "\n",
       "/* Toggleable label */\n",
       "#sk-container-id-1 label.sk-toggleable__label {\n",
       "  cursor: pointer;\n",
       "  display: block;\n",
       "  width: 100%;\n",
       "  margin-bottom: 0;\n",
       "  padding: 0.5em;\n",
       "  box-sizing: border-box;\n",
       "  text-align: center;\n",
       "}\n",
       "\n",
       "#sk-container-id-1 label.sk-toggleable__label-arrow:before {\n",
       "  /* Arrow on the left of the label */\n",
       "  content: \"▸\";\n",
       "  float: left;\n",
       "  margin-right: 0.25em;\n",
       "  color: var(--sklearn-color-icon);\n",
       "}\n",
       "\n",
       "#sk-container-id-1 label.sk-toggleable__label-arrow:hover:before {\n",
       "  color: var(--sklearn-color-text);\n",
       "}\n",
       "\n",
       "/* Toggleable content - dropdown */\n",
       "\n",
       "#sk-container-id-1 div.sk-toggleable__content {\n",
       "  max-height: 0;\n",
       "  max-width: 0;\n",
       "  overflow: hidden;\n",
       "  text-align: left;\n",
       "  /* unfitted */\n",
       "  background-color: var(--sklearn-color-unfitted-level-0);\n",
       "}\n",
       "\n",
       "#sk-container-id-1 div.sk-toggleable__content.fitted {\n",
       "  /* fitted */\n",
       "  background-color: var(--sklearn-color-fitted-level-0);\n",
       "}\n",
       "\n",
       "#sk-container-id-1 div.sk-toggleable__content pre {\n",
       "  margin: 0.2em;\n",
       "  border-radius: 0.25em;\n",
       "  color: var(--sklearn-color-text);\n",
       "  /* unfitted */\n",
       "  background-color: var(--sklearn-color-unfitted-level-0);\n",
       "}\n",
       "\n",
       "#sk-container-id-1 div.sk-toggleable__content.fitted pre {\n",
       "  /* unfitted */\n",
       "  background-color: var(--sklearn-color-fitted-level-0);\n",
       "}\n",
       "\n",
       "#sk-container-id-1 input.sk-toggleable__control:checked~div.sk-toggleable__content {\n",
       "  /* Expand drop-down */\n",
       "  max-height: 200px;\n",
       "  max-width: 100%;\n",
       "  overflow: auto;\n",
       "}\n",
       "\n",
       "#sk-container-id-1 input.sk-toggleable__control:checked~label.sk-toggleable__label-arrow:before {\n",
       "  content: \"▾\";\n",
       "}\n",
       "\n",
       "/* Pipeline/ColumnTransformer-specific style */\n",
       "\n",
       "#sk-container-id-1 div.sk-label input.sk-toggleable__control:checked~label.sk-toggleable__label {\n",
       "  color: var(--sklearn-color-text);\n",
       "  background-color: var(--sklearn-color-unfitted-level-2);\n",
       "}\n",
       "\n",
       "#sk-container-id-1 div.sk-label.fitted input.sk-toggleable__control:checked~label.sk-toggleable__label {\n",
       "  background-color: var(--sklearn-color-fitted-level-2);\n",
       "}\n",
       "\n",
       "/* Estimator-specific style */\n",
       "\n",
       "/* Colorize estimator box */\n",
       "#sk-container-id-1 div.sk-estimator input.sk-toggleable__control:checked~label.sk-toggleable__label {\n",
       "  /* unfitted */\n",
       "  background-color: var(--sklearn-color-unfitted-level-2);\n",
       "}\n",
       "\n",
       "#sk-container-id-1 div.sk-estimator.fitted input.sk-toggleable__control:checked~label.sk-toggleable__label {\n",
       "  /* fitted */\n",
       "  background-color: var(--sklearn-color-fitted-level-2);\n",
       "}\n",
       "\n",
       "#sk-container-id-1 div.sk-label label.sk-toggleable__label,\n",
       "#sk-container-id-1 div.sk-label label {\n",
       "  /* The background is the default theme color */\n",
       "  color: var(--sklearn-color-text-on-default-background);\n",
       "}\n",
       "\n",
       "/* On hover, darken the color of the background */\n",
       "#sk-container-id-1 div.sk-label:hover label.sk-toggleable__label {\n",
       "  color: var(--sklearn-color-text);\n",
       "  background-color: var(--sklearn-color-unfitted-level-2);\n",
       "}\n",
       "\n",
       "/* Label box, darken color on hover, fitted */\n",
       "#sk-container-id-1 div.sk-label.fitted:hover label.sk-toggleable__label.fitted {\n",
       "  color: var(--sklearn-color-text);\n",
       "  background-color: var(--sklearn-color-fitted-level-2);\n",
       "}\n",
       "\n",
       "/* Estimator label */\n",
       "\n",
       "#sk-container-id-1 div.sk-label label {\n",
       "  font-family: monospace;\n",
       "  font-weight: bold;\n",
       "  display: inline-block;\n",
       "  line-height: 1.2em;\n",
       "}\n",
       "\n",
       "#sk-container-id-1 div.sk-label-container {\n",
       "  text-align: center;\n",
       "}\n",
       "\n",
       "/* Estimator-specific */\n",
       "#sk-container-id-1 div.sk-estimator {\n",
       "  font-family: monospace;\n",
       "  border: 1px dotted var(--sklearn-color-border-box);\n",
       "  border-radius: 0.25em;\n",
       "  box-sizing: border-box;\n",
       "  margin-bottom: 0.5em;\n",
       "  /* unfitted */\n",
       "  background-color: var(--sklearn-color-unfitted-level-0);\n",
       "}\n",
       "\n",
       "#sk-container-id-1 div.sk-estimator.fitted {\n",
       "  /* fitted */\n",
       "  background-color: var(--sklearn-color-fitted-level-0);\n",
       "}\n",
       "\n",
       "/* on hover */\n",
       "#sk-container-id-1 div.sk-estimator:hover {\n",
       "  /* unfitted */\n",
       "  background-color: var(--sklearn-color-unfitted-level-2);\n",
       "}\n",
       "\n",
       "#sk-container-id-1 div.sk-estimator.fitted:hover {\n",
       "  /* fitted */\n",
       "  background-color: var(--sklearn-color-fitted-level-2);\n",
       "}\n",
       "\n",
       "/* Specification for estimator info (e.g. \"i\" and \"?\") */\n",
       "\n",
       "/* Common style for \"i\" and \"?\" */\n",
       "\n",
       ".sk-estimator-doc-link,\n",
       "a:link.sk-estimator-doc-link,\n",
       "a:visited.sk-estimator-doc-link {\n",
       "  float: right;\n",
       "  font-size: smaller;\n",
       "  line-height: 1em;\n",
       "  font-family: monospace;\n",
       "  background-color: var(--sklearn-color-background);\n",
       "  border-radius: 1em;\n",
       "  height: 1em;\n",
       "  width: 1em;\n",
       "  text-decoration: none !important;\n",
       "  margin-left: 1ex;\n",
       "  /* unfitted */\n",
       "  border: var(--sklearn-color-unfitted-level-1) 1pt solid;\n",
       "  color: var(--sklearn-color-unfitted-level-1);\n",
       "}\n",
       "\n",
       ".sk-estimator-doc-link.fitted,\n",
       "a:link.sk-estimator-doc-link.fitted,\n",
       "a:visited.sk-estimator-doc-link.fitted {\n",
       "  /* fitted */\n",
       "  border: var(--sklearn-color-fitted-level-1) 1pt solid;\n",
       "  color: var(--sklearn-color-fitted-level-1);\n",
       "}\n",
       "\n",
       "/* On hover */\n",
       "div.sk-estimator:hover .sk-estimator-doc-link:hover,\n",
       ".sk-estimator-doc-link:hover,\n",
       "div.sk-label-container:hover .sk-estimator-doc-link:hover,\n",
       ".sk-estimator-doc-link:hover {\n",
       "  /* unfitted */\n",
       "  background-color: var(--sklearn-color-unfitted-level-3);\n",
       "  color: var(--sklearn-color-background);\n",
       "  text-decoration: none;\n",
       "}\n",
       "\n",
       "div.sk-estimator.fitted:hover .sk-estimator-doc-link.fitted:hover,\n",
       ".sk-estimator-doc-link.fitted:hover,\n",
       "div.sk-label-container:hover .sk-estimator-doc-link.fitted:hover,\n",
       ".sk-estimator-doc-link.fitted:hover {\n",
       "  /* fitted */\n",
       "  background-color: var(--sklearn-color-fitted-level-3);\n",
       "  color: var(--sklearn-color-background);\n",
       "  text-decoration: none;\n",
       "}\n",
       "\n",
       "/* Span, style for the box shown on hovering the info icon */\n",
       ".sk-estimator-doc-link span {\n",
       "  display: none;\n",
       "  z-index: 9999;\n",
       "  position: relative;\n",
       "  font-weight: normal;\n",
       "  right: .2ex;\n",
       "  padding: .5ex;\n",
       "  margin: .5ex;\n",
       "  width: min-content;\n",
       "  min-width: 20ex;\n",
       "  max-width: 50ex;\n",
       "  color: var(--sklearn-color-text);\n",
       "  box-shadow: 2pt 2pt 4pt #999;\n",
       "  /* unfitted */\n",
       "  background: var(--sklearn-color-unfitted-level-0);\n",
       "  border: .5pt solid var(--sklearn-color-unfitted-level-3);\n",
       "}\n",
       "\n",
       ".sk-estimator-doc-link.fitted span {\n",
       "  /* fitted */\n",
       "  background: var(--sklearn-color-fitted-level-0);\n",
       "  border: var(--sklearn-color-fitted-level-3);\n",
       "}\n",
       "\n",
       ".sk-estimator-doc-link:hover span {\n",
       "  display: block;\n",
       "}\n",
       "\n",
       "/* \"?\"-specific style due to the `<a>` HTML tag */\n",
       "\n",
       "#sk-container-id-1 a.estimator_doc_link {\n",
       "  float: right;\n",
       "  font-size: 1rem;\n",
       "  line-height: 1em;\n",
       "  font-family: monospace;\n",
       "  background-color: var(--sklearn-color-background);\n",
       "  border-radius: 1rem;\n",
       "  height: 1rem;\n",
       "  width: 1rem;\n",
       "  text-decoration: none;\n",
       "  /* unfitted */\n",
       "  color: var(--sklearn-color-unfitted-level-1);\n",
       "  border: var(--sklearn-color-unfitted-level-1) 1pt solid;\n",
       "}\n",
       "\n",
       "#sk-container-id-1 a.estimator_doc_link.fitted {\n",
       "  /* fitted */\n",
       "  border: var(--sklearn-color-fitted-level-1) 1pt solid;\n",
       "  color: var(--sklearn-color-fitted-level-1);\n",
       "}\n",
       "\n",
       "/* On hover */\n",
       "#sk-container-id-1 a.estimator_doc_link:hover {\n",
       "  /* unfitted */\n",
       "  background-color: var(--sklearn-color-unfitted-level-3);\n",
       "  color: var(--sklearn-color-background);\n",
       "  text-decoration: none;\n",
       "}\n",
       "\n",
       "#sk-container-id-1 a.estimator_doc_link.fitted:hover {\n",
       "  /* fitted */\n",
       "  background-color: var(--sklearn-color-fitted-level-3);\n",
       "}\n",
       "</style><div id=\"sk-container-id-1\" class=\"sk-top-container\"><div class=\"sk-text-repr-fallback\"><pre>GridSearchCV(cv=5, estimator=LogisticRegression(),\n",
       "             param_grid={&#x27;C&#x27;: [0.01, 0.1, 1, 10], &#x27;max_iter&#x27;: [100, 200, 500],\n",
       "                         &#x27;penalty&#x27;: [&#x27;l1&#x27;, &#x27;l2&#x27;, &#x27;elasticnet&#x27;],\n",
       "                         &#x27;solver&#x27;: [&#x27;saga&#x27;]},\n",
       "             scoring=&#x27;roc_auc&#x27;)</pre><b>In a Jupyter environment, please rerun this cell to show the HTML representation or trust the notebook. <br />On GitHub, the HTML representation is unable to render, please try loading this page with nbviewer.org.</b></div><div class=\"sk-container\" hidden><div class=\"sk-item sk-dashed-wrapped\"><div class=\"sk-label-container\"><div class=\"sk-label fitted sk-toggleable\"><input class=\"sk-toggleable__control sk-hidden--visually\" id=\"sk-estimator-id-1\" type=\"checkbox\" ><label for=\"sk-estimator-id-1\" class=\"sk-toggleable__label fitted sk-toggleable__label-arrow fitted\">&nbsp;&nbsp;GridSearchCV<a class=\"sk-estimator-doc-link fitted\" rel=\"noreferrer\" target=\"_blank\" href=\"https://scikit-learn.org/1.5/modules/generated/sklearn.model_selection.GridSearchCV.html\">?<span>Documentation for GridSearchCV</span></a><span class=\"sk-estimator-doc-link fitted\">i<span>Fitted</span></span></label><div class=\"sk-toggleable__content fitted\"><pre>GridSearchCV(cv=5, estimator=LogisticRegression(),\n",
       "             param_grid={&#x27;C&#x27;: [0.01, 0.1, 1, 10], &#x27;max_iter&#x27;: [100, 200, 500],\n",
       "                         &#x27;penalty&#x27;: [&#x27;l1&#x27;, &#x27;l2&#x27;, &#x27;elasticnet&#x27;],\n",
       "                         &#x27;solver&#x27;: [&#x27;saga&#x27;]},\n",
       "             scoring=&#x27;roc_auc&#x27;)</pre></div> </div></div><div class=\"sk-parallel\"><div class=\"sk-parallel-item\"><div class=\"sk-item\"><div class=\"sk-label-container\"><div class=\"sk-label fitted sk-toggleable\"><input class=\"sk-toggleable__control sk-hidden--visually\" id=\"sk-estimator-id-2\" type=\"checkbox\" ><label for=\"sk-estimator-id-2\" class=\"sk-toggleable__label fitted sk-toggleable__label-arrow fitted\">best_estimator_: LogisticRegression</label><div class=\"sk-toggleable__content fitted\"><pre>LogisticRegression(C=0.1, max_iter=200, solver=&#x27;saga&#x27;)</pre></div> </div></div><div class=\"sk-serial\"><div class=\"sk-item\"><div class=\"sk-estimator fitted sk-toggleable\"><input class=\"sk-toggleable__control sk-hidden--visually\" id=\"sk-estimator-id-3\" type=\"checkbox\" ><label for=\"sk-estimator-id-3\" class=\"sk-toggleable__label fitted sk-toggleable__label-arrow fitted\">&nbsp;LogisticRegression<a class=\"sk-estimator-doc-link fitted\" rel=\"noreferrer\" target=\"_blank\" href=\"https://scikit-learn.org/1.5/modules/generated/sklearn.linear_model.LogisticRegression.html\">?<span>Documentation for LogisticRegression</span></a></label><div class=\"sk-toggleable__content fitted\"><pre>LogisticRegression(C=0.1, max_iter=200, solver=&#x27;saga&#x27;)</pre></div> </div></div></div></div></div></div></div></div></div>"
      ],
      "text/plain": [
       "GridSearchCV(cv=5, estimator=LogisticRegression(),\n",
       "             param_grid={'C': [0.01, 0.1, 1, 10], 'max_iter': [100, 200, 500],\n",
       "                         'penalty': ['l1', 'l2', 'elasticnet'],\n",
       "                         'solver': ['saga']},\n",
       "             scoring='roc_auc')"
      ]
     },
     "execution_count": 25,
     "metadata": {},
     "output_type": "execute_result"
    }
   ],
   "source": [
    "# finding the best hyper parameters for LogisticRegression\n",
    "param_grid = {'penalty': ['l1', 'l2', 'elasticnet'],\n",
    "              'C': [0.01, 0.1, 1, 10],\n",
    "              'max_iter': [100, 200, 500],\n",
    "              'solver': ['saga']}\n",
    "    \n",
    "grid_search = GridSearchCV(model, param_grid=param_grid, scoring='roc_auc', cv=5)\n",
    "grid_search.fit(xv_train2, y_train)"
   ]
  },
  {
   "cell_type": "code",
   "execution_count": 26,
   "id": "f171c864-c37f-430f-b15b-e24c49a01c58",
   "metadata": {},
   "outputs": [
    {
     "name": "stdout",
     "output_type": "stream",
     "text": [
      "{'C': 0.1, 'max_iter': 200, 'penalty': 'l2', 'solver': 'saga'}\n"
     ]
    }
   ],
   "source": [
    "print(grid_search.best_params_)"
   ]
  },
  {
   "cell_type": "code",
   "execution_count": 27,
   "id": "191bbe21-007c-4b5c-9c99-efd3768c83be",
   "metadata": {},
   "outputs": [
    {
     "data": {
      "text/plain": [
       "0.5875354107648725"
      ]
     },
     "execution_count": 27,
     "metadata": {},
     "output_type": "execute_result"
    }
   ],
   "source": [
    "lr_new = LogisticRegression(C = 0.1, max_iter = 500, penalty = 'l2', solver = 'saga')\n",
    "lr_new.fit(xv_train2, y_train)\n",
    "lr_new.score(xv_test2, y_test)"
   ]
  },
  {
   "cell_type": "code",
   "execution_count": 28,
   "id": "f7804b8b-8f27-465f-9dc1-d06f0ed9e8de",
   "metadata": {},
   "outputs": [],
   "source": [
    "# finding the thershold, precision, recall.\n",
    "yprob = model.predict_proba(xv_test)\n",
    "yprob = yprob[:, 1]"
   ]
  },
  {
   "cell_type": "code",
   "execution_count": 29,
   "id": "60f12a5c-fe29-4832-8f79-e55dc6565f9e",
   "metadata": {},
   "outputs": [
    {
     "data": {
      "text/plain": [
       "0.6106049729165307"
      ]
     },
     "execution_count": 29,
     "metadata": {},
     "output_type": "execute_result"
    }
   ],
   "source": [
    "# The AUC score is above 0.5 which means the predicts are not random. The model is trying to predict the correct labels. \n",
    "roc_auc_score(y_test, yprob)"
   ]
  },
  {
   "cell_type": "code",
   "execution_count": 30,
   "id": "d4cad6a7-c284-4255-b678-645718a494e4",
   "metadata": {},
   "outputs": [
    {
     "name": "stdout",
     "output_type": "stream",
     "text": [
      "              precision    recall  f1-score   support\n",
      "\n",
      "           0       0.62      0.10      0.18       770\n",
      "           1       0.58      0.95      0.72       995\n",
      "\n",
      "    accuracy                           0.58      1765\n",
      "   macro avg       0.60      0.53      0.45      1765\n",
      "weighted avg       0.60      0.58      0.48      1765\n",
      "\n"
     ]
    }
   ],
   "source": [
    "# classification report which shows the affect of decearsing the threshold.\n",
    "print(classification_report(y_test, np.array(yprob) > 0.3))"
   ]
  },
  {
   "cell_type": "code",
   "execution_count": 31,
   "id": "facacde5-355a-41fb-9085-d222d663770c",
   "metadata": {},
   "outputs": [
    {
     "name": "stdout",
     "output_type": "stream",
     "text": [
      "              precision    recall  f1-score   support\n",
      "\n",
      "           0       0.50      0.70      0.58       770\n",
      "           1       0.66      0.46      0.54       995\n",
      "\n",
      "    accuracy                           0.56      1765\n",
      "   macro avg       0.58      0.58      0.56      1765\n",
      "weighted avg       0.59      0.56      0.56      1765\n",
      "\n"
     ]
    }
   ],
   "source": [
    "# classification report which shows the affect of incerasing the threshold\n",
    "print(classification_report(y_test, np.array(yprob) > 0.7))"
   ]
  },
  {
   "cell_type": "code",
   "execution_count": 32,
   "id": "b54f54d5-d7fa-423d-b05a-e344281a575b",
   "metadata": {},
   "outputs": [],
   "source": [
    "precision, recall, thresholds = precision_recall_curve(y_test, yprob)\n",
    "thresholds = np.append(thresholds, 1)"
   ]
  },
  {
   "cell_type": "code",
   "execution_count": 33,
   "id": "b2f74cec-c741-4792-9d8d-ee4206fe59ff",
   "metadata": {},
   "outputs": [],
   "source": [
    "# calcuating the f1_score \n",
    "one = 2*precision * recall\n",
    "two = precision + recall \n",
    "f1 = one / two "
   ]
  },
  {
   "cell_type": "code",
   "execution_count": 34,
   "id": "ecc2c57f-5092-4070-a104-17b7f72a4f3c",
   "metadata": {},
   "outputs": [
    {
     "data": {
      "text/plain": [
       "<matplotlib.legend.Legend at 0x24723155b50>"
      ]
     },
     "execution_count": 34,
     "metadata": {},
     "output_type": "execute_result"
    },
    {
     "data": {
      "image/png": "[encoded data removed]",
      "text/plain": [
       "<Figure size 640x480 with 1 Axes>"
      ]
     },
     "metadata": {},
     "output_type": "display_data"
    }
   ],
   "source": [
    "# BUSINESS CASE 1\n",
    "\n",
    "# Ploting thershold, precision, recall for CountVectorizer \n",
    "# 0.80 is good for this case.\n",
    "# we are putting more focus on precision \n",
    "plt.plot(thresholds, precision, color='blue')\n",
    "plt.plot(thresholds, recall, color='red')\n",
    "plt.plot(thresholds, f1, color='yellow')\n",
    "plt.xlabel('Thershold')\n",
    "plt.ylabel('Values')\n",
    "plt.title('Precision Recall  F1 Curve')\n",
    "plt.axvline(x=.80, color='black')\n",
    "plt.text(.85,.50,'Best Threshold',rotation=90)\n",
    "plt.legend(('Precision', 'Recall', 'F1-Score'))"
   ]
  },
  {
   "cell_type": "code",
   "execution_count": 35,
   "id": "72ecd39d-f0fd-4633-895e-862966bc7c74",
   "metadata": {},
   "outputs": [],
   "source": [
    "# finding the thershold, precision, recall.\n",
    "yprob = model.predict_proba(xv_test2)\n",
    "yprob = yprob[:, 1]\n",
    "precision, recall, thresholds = precision_recall_curve(y_test, yprob)\n",
    "thresholds = np.append(thresholds, 1)"
   ]
  },
  {
   "cell_type": "code",
   "execution_count": 36,
   "id": "0906ae1e-b3f6-457b-852b-c8aaae41de3b",
   "metadata": {},
   "outputs": [],
   "source": [
    "one = 2*precision * recall\n",
    "two = precision + recall \n",
    "f1 = one / two "
   ]
  },
  {
   "cell_type": "code",
   "execution_count": 37,
   "id": "558d267c-9897-4ce6-bc7e-a59c36185983",
   "metadata": {},
   "outputs": [
    {
     "data": {
      "text/plain": [
       "<matplotlib.legend.Legend at 0x2472358e660>"
      ]
     },
     "execution_count": 37,
     "metadata": {},
     "output_type": "execute_result"
    },
    {
     "data": {
      "image/png": "[encoded data removed]",
      "text/plain": [
       "<Figure size 640x480 with 1 Axes>"
      ]
     },
     "metadata": {},
     "output_type": "display_data"
    }
   ],
   "source": [
    "# Ploting thershold, precision, recall for TfidfVectorizer \n",
    "# 0.80 is good thershold \n",
    "\n",
    "plt.plot(thresholds, precision, color='blue')\n",
    "plt.plot(thresholds, recall, color='red')\n",
    "plt.plot(thresholds, f1, color='yellow')\n",
    "plt.xlabel('Thershold')\n",
    "plt.ylabel('Values') \n",
    "plt.title('Precision Recall F1 Curve')\n",
    "plt.axvline(x=.80, color='black')\n",
    "plt.text(.75,.50,'Best Threshold',rotation=90)\n",
    "plt.legend(('Precision', 'Recall', 'F1-Score'))"
   ]
  },
  {
   "cell_type": "code",
   "execution_count": 100,
   "id": "25cc1ba8-0d9c-4bd5-836a-95bb148f29b0",
   "metadata": {},
   "outputs": [],
   "source": [
    "# BUSINESS CASE 2 \n",
    "balanced_accuracies = []\n",
    "for t in thresholds:\n",
    "    y_pred = (yprob >= t).astype(int)\n",
    "    tn, fp, fn, tp = confusion_matrix(y_test, y_pred).ravel()\n",
    "\n",
    "    # Avoid division by zero\n",
    "    recall = tp / (tp + fn) if (tp + fn) != 0 else 0\n",
    "    specificity = tn / (tn + fp) if (tn + fp) != 0 else 0\n",
    "    balanced_accuracy = (recall + specificity) / 2\n",
    "    balanced_accuracies.append(balanced_accuracy)"
   ]
  },
  {
   "cell_type": "code",
   "execution_count": 126,
   "id": "fdd32cb4-060e-4c94-a28d-903c6c8ba79b",
   "metadata": {},
   "outputs": [
    {
     "data": {
      "text/plain": [
       "Text(0.5, 1.0, 'Balanced Accuracy  vs. Threshold')"
      ]
     },
     "execution_count": 126,
     "metadata": {},
     "output_type": "execute_result"
    },
    {
     "data": {
      "image/png": "[encoded data removed]",
      "text/plain": [
       "<Figure size 640x480 with 1 Axes>"
      ]
     },
     "metadata": {},
     "output_type": "display_data"
    }
   ],
   "source": [
    "plt.plot(thresholds, balanced_accuracies, label='Balanced Accuracy', color='purple')\n",
    "plt.axvline(x=.53, color='black')\n",
    "plt.text(.55,.54,'Best Threshold',rotation=90) \n",
    "plt.xlabel('Threshold')\n",
    "plt.ylabel('Balanced Accuracy')\n",
    "plt.title('Balanced Accuracy  vs. Threshold')"
   ]
  },
  {
   "cell_type": "code",
   "execution_count": 108,
   "id": "8121be61-d531-4cb2-8ba0-dfbcd88eebca",
   "metadata": {},
   "outputs": [],
   "source": [
    "y_prob2 = grid_search.predict_proba(xv_test)[:,1]"
   ]
  },
  {
   "cell_type": "code",
   "execution_count": 41,
   "id": "25603bc4-b87f-4b01-b882-394b5012eb3b",
   "metadata": {},
   "outputs": [],
   "source": [
    "fpr, tpr, thresholds = roc_curve(y_test, y_prob2)"
   ]
  },
  {
   "cell_type": "code",
   "execution_count": 42,
   "id": "bcdbfdef-ba08-4a5f-b49c-da8968255a2a",
   "metadata": {},
   "outputs": [
    {
     "data": {
      "image/png": "[encoded data removed]",
      "text/plain": [
       "<Figure size 640x480 with 1 Axes>"
      ]
     },
     "metadata": {},
     "output_type": "display_data"
    }
   ],
   "source": [
    "# ROC Curve for CountVectorizer\n",
    "plt.plot([0,1], [0,1], linestyle='--', label='Normal')\n",
    "plt.plot(fpr, tpr, marker='.', label='TP vs FP')\n",
    "plt.xlabel('False Positive Rate')\n",
    "plt.ylabel('True Positive Rate')\n",
    "plt.legend()\n",
    "plt.title('ROC curve')\n",
    "\n",
    "plt.show()"
   ]
  },
  {
   "cell_type": "code",
   "execution_count": 43,
   "id": "11ab767a-8df8-4d93-a693-19bdd60aa8ee",
   "metadata": {},
   "outputs": [],
   "source": [
    "# find the best thershold. Ploting the FP vs TP to for TfidfVectorizer model \n",
    "yprob = model.predict_proba(xv_test2)\n",
    "yprob = yprob[:, 1]\n",
    "fpr, tpr, thresholds = roc_curve(y_test, yprob)"
   ]
  },
  {
   "cell_type": "code",
   "execution_count": 44,
   "id": "6f7ce4be-d4f0-4e12-9759-084add3a4ff9",
   "metadata": {},
   "outputs": [],
   "source": [
    "y_prob2 = grid_search.predict_proba(xv_test2)[:,1]"
   ]
  },
  {
   "cell_type": "code",
   "execution_count": 45,
   "id": "3e755edb-12a5-4221-87ae-07dc610e0108",
   "metadata": {},
   "outputs": [],
   "source": [
    "fpr, tpr, thresholds = roc_curve(y_test, y_prob2)"
   ]
  },
  {
   "cell_type": "code",
   "execution_count": 46,
   "id": "0feed26a-182b-4fab-ae23-c7fbf34e93ce",
   "metadata": {},
   "outputs": [
    {
     "data": {
      "image/png": "[encoded data removed]",
      "text/plain": [
       "<Figure size 640x480 with 1 Axes>"
      ]
     },
     "metadata": {},
     "output_type": "display_data"
    }
   ],
   "source": [
    "# ROC Curve for TfidfVectorizer\n",
    "plt.plot([0,1], [0,1], linestyle='--', label='Normal')\n",
    "plt.plot(fpr, tpr, marker='.', label='TP vs FP')\n",
    "plt.xlabel('False Positive Rate')\n",
    "plt.ylabel('True Positive Rate')\n",
    "plt.legend()\n",
    "plt.title('ROC curve')\n",
    "\n",
    "plt.show()"
   ]
  },
  {
   "cell_type": "code",
   "execution_count": null,
   "id": "19e62d32-45da-4776-91f6-91453ced9669",
   "metadata": {},
   "outputs": [],
   "source": []
  }
 ],
 "metadata": {
  "kernelspec": {
   "display_name": "Python 3 (ipykernel)",
   "language": "python",
   "name": "python3"
  },
  "language_info": {
   "codemirror_mode": {
    "name": "ipython",
    "version": 3
   },
   "file_extension": ".py",
   "mimetype": "text/x-python",
   "name": "python",
   "nbconvert_exporter": "python",
   "pygments_lexer": "ipython3",
   "version": "3.12.4"
  }
 },
 "nbformat": 4,
 "nbformat_minor": 5
}

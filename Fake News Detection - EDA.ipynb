{
 "cells": [
  {
   "cell_type": "code",
   "execution_count": 1,
   "id": "2db7d458-7445-4d4c-92f5-fcd0dc36c883",
   "metadata": {},
   "outputs": [],
   "source": [
    "# import all needed packages \n",
    "import pandas as pd\n",
    "import matplotlib.pyplot as plt\n",
    "import seaborn as sns\n",
    "import os\n",
    "import re\n",
    "\n",
    "import nltk\n",
    "from nltk import word_tokenize\n",
    "from nltk.probability import FreqDist\n",
    "\n",
    "import catboost as cb\n",
    "from catboost import CatBoostClassifier, CatBoostRegressor, Pool\n",
    "from sklearn.model_selection import train_test_split, cross_validate, GridSearchCV\n",
    "from sklearn.preprocessing import label_binarize\n",
    "from sklearn.metrics import roc_auc_score, confusion_matrix, classification_report\n",
    "from sklearn.feature_extraction.text import TfidfVectorizer, CountVectorizer\n",
    "from sklearn.linear_model import LogisticRegression\n",
    "from sklearn.naive_bayes import MultinomialNB\n",
    "from sklearn.preprocessing import scale\n",
    "from sklearn.decomposition import PCA\n",
    "\n",
    "from collections import Counter\n",
    "import numpy as np"
   ]
  },
  {
   "cell_type": "code",
   "execution_count": 2,
   "id": "f7812075-e46b-47bf-9222-853e8eee24e5",
   "metadata": {},
   "outputs": [],
   "source": [
    "# import the data and turn into dataframe \n",
    "fake_news_data = pd.read_csv('../raw_data/train.csv')"
   ]
  },
  {
   "cell_type": "code",
   "execution_count": 3,
   "id": "2a8a0d54-ecd7-4f62-ac47-5a04c9f649ae",
   "metadata": {
    "scrolled": true
   },
   "outputs": [
    {
     "data": {
      "text/html": [
       "<div>\n",
       "<style scoped>\n",
       "    .dataframe tbody tr th:only-of-type {\n",
       "        vertical-align: middle;\n",
       "    }\n",
       "\n",
       "    .dataframe tbody tr th {\n",
       "        vertical-align: top;\n",
       "    }\n",
       "\n",
       "    .dataframe thead th {\n",
       "        text-align: right;\n",
       "    }\n",
       "</style>\n",
       "<table border=\"1\" class=\"dataframe\">\n",
       "  <thead>\n",
       "    <tr style=\"text-align: right;\">\n",
       "      <th></th>\n",
       "      <th>ID</th>\n",
       "      <th>label</th>\n",
       "      <th>statement</th>\n",
       "      <th>subject</th>\n",
       "      <th>speaker</th>\n",
       "      <th>speaker_job</th>\n",
       "      <th>state_info</th>\n",
       "      <th>party_affiliation</th>\n",
       "      <th>barely_true_counts</th>\n",
       "      <th>false_counts</th>\n",
       "      <th>...</th>\n",
       "      <th>sentiment_score</th>\n",
       "      <th>sentiment_magnitude</th>\n",
       "      <th>anger</th>\n",
       "      <th>fear</th>\n",
       "      <th>joy</th>\n",
       "      <th>disgust</th>\n",
       "      <th>sad</th>\n",
       "      <th>speaker_id</th>\n",
       "      <th>list</th>\n",
       "      <th>sentiment_code</th>\n",
       "    </tr>\n",
       "  </thead>\n",
       "  <tbody>\n",
       "    <tr>\n",
       "      <th>0</th>\n",
       "      <td>2635.json</td>\n",
       "      <td>false</td>\n",
       "      <td>Says the Annies List political group supports ...</td>\n",
       "      <td>abortion</td>\n",
       "      <td>dwayne-bohac</td>\n",
       "      <td>State representative</td>\n",
       "      <td>Texas</td>\n",
       "      <td>republican</td>\n",
       "      <td>0.0</td>\n",
       "      <td>1.0</td>\n",
       "      <td>...</td>\n",
       "      <td>-0.5</td>\n",
       "      <td>0.5</td>\n",
       "      <td>0.121137</td>\n",
       "      <td>0.008926</td>\n",
       "      <td>0.026096</td>\n",
       "      <td>0.263479</td>\n",
       "      <td>0.531887</td>\n",
       "      <td>_0_</td>\n",
       "      <td>[0, 1]</td>\n",
       "      <td>_NEG_</td>\n",
       "    </tr>\n",
       "    <tr>\n",
       "      <th>1</th>\n",
       "      <td>10540.json</td>\n",
       "      <td>half-true</td>\n",
       "      <td>When did the decline of coal start? It started...</td>\n",
       "      <td>energy,history,job-accomplishments</td>\n",
       "      <td>scott-surovell</td>\n",
       "      <td>State delegate</td>\n",
       "      <td>Virginia</td>\n",
       "      <td>democrat</td>\n",
       "      <td>0.0</td>\n",
       "      <td>0.0</td>\n",
       "      <td>...</td>\n",
       "      <td>-0.4</td>\n",
       "      <td>0.8</td>\n",
       "      <td>0.095352</td>\n",
       "      <td>0.124566</td>\n",
       "      <td>0.191357</td>\n",
       "      <td>0.016999</td>\n",
       "      <td>0.102045</td>\n",
       "      <td>_1_</td>\n",
       "      <td>[0, 1]</td>\n",
       "      <td>_NEG_</td>\n",
       "    </tr>\n",
       "    <tr>\n",
       "      <th>2</th>\n",
       "      <td>324.json</td>\n",
       "      <td>mostly-true</td>\n",
       "      <td>Hillary Clinton agrees with John McCain \"by vo...</td>\n",
       "      <td>foreign-policy</td>\n",
       "      <td>barack-obama</td>\n",
       "      <td>President</td>\n",
       "      <td>Illinois</td>\n",
       "      <td>democrat</td>\n",
       "      <td>70.0</td>\n",
       "      <td>71.0</td>\n",
       "      <td>...</td>\n",
       "      <td>-0.3</td>\n",
       "      <td>0.3</td>\n",
       "      <td>0.039559</td>\n",
       "      <td>0.024162</td>\n",
       "      <td>0.500384</td>\n",
       "      <td>0.454228</td>\n",
       "      <td>0.052453</td>\n",
       "      <td>_2_</td>\n",
       "      <td>[1, 0]</td>\n",
       "      <td>_NEG_</td>\n",
       "    </tr>\n",
       "    <tr>\n",
       "      <th>3</th>\n",
       "      <td>1123.json</td>\n",
       "      <td>false</td>\n",
       "      <td>Health care reform legislation is likely to ma...</td>\n",
       "      <td>health-care</td>\n",
       "      <td>blog-posting</td>\n",
       "      <td>NaN</td>\n",
       "      <td>NaN</td>\n",
       "      <td>none</td>\n",
       "      <td>7.0</td>\n",
       "      <td>19.0</td>\n",
       "      <td>...</td>\n",
       "      <td>-0.3</td>\n",
       "      <td>0.3</td>\n",
       "      <td>0.004804</td>\n",
       "      <td>0.194674</td>\n",
       "      <td>0.375055</td>\n",
       "      <td>0.022509</td>\n",
       "      <td>0.383403</td>\n",
       "      <td>_3_</td>\n",
       "      <td>[0, 1]</td>\n",
       "      <td>_NEG_</td>\n",
       "    </tr>\n",
       "    <tr>\n",
       "      <th>4</th>\n",
       "      <td>9028.json</td>\n",
       "      <td>half-true</td>\n",
       "      <td>The economic turnaround started at the end of ...</td>\n",
       "      <td>economy,jobs</td>\n",
       "      <td>charlie-crist</td>\n",
       "      <td>NaN</td>\n",
       "      <td>Florida</td>\n",
       "      <td>democrat</td>\n",
       "      <td>15.0</td>\n",
       "      <td>9.0</td>\n",
       "      <td>...</td>\n",
       "      <td>0.0</td>\n",
       "      <td>0.0</td>\n",
       "      <td>0.044237</td>\n",
       "      <td>0.215996</td>\n",
       "      <td>0.222402</td>\n",
       "      <td>0.045672</td>\n",
       "      <td>0.274343</td>\n",
       "      <td>_4_</td>\n",
       "      <td>[0, 1]</td>\n",
       "      <td>NaN</td>\n",
       "    </tr>\n",
       "  </tbody>\n",
       "</table>\n",
       "<p>5 rows × 25 columns</p>\n",
       "</div>"
      ],
      "text/plain": [
       "           ID        label                                          statement  \\\n",
       "0   2635.json        false  Says the Annies List political group supports ...   \n",
       "1  10540.json    half-true  When did the decline of coal start? It started...   \n",
       "2    324.json  mostly-true  Hillary Clinton agrees with John McCain \"by vo...   \n",
       "3   1123.json        false  Health care reform legislation is likely to ma...   \n",
       "4   9028.json    half-true  The economic turnaround started at the end of ...   \n",
       "\n",
       "                              subject         speaker           speaker_job  \\\n",
       "0                            abortion    dwayne-bohac  State representative   \n",
       "1  energy,history,job-accomplishments  scott-surovell        State delegate   \n",
       "2                      foreign-policy    barack-obama             President   \n",
       "3                         health-care    blog-posting                   NaN   \n",
       "4                        economy,jobs   charlie-crist                   NaN   \n",
       "\n",
       "  state_info party_affiliation  barely_true_counts  false_counts  ...  \\\n",
       "0      Texas        republican                 0.0           1.0  ...   \n",
       "1   Virginia          democrat                 0.0           0.0  ...   \n",
       "2   Illinois          democrat                70.0          71.0  ...   \n",
       "3        NaN              none                 7.0          19.0  ...   \n",
       "4    Florida          democrat                15.0           9.0  ...   \n",
       "\n",
       "   sentiment_score  sentiment_magnitude     anger      fear       joy  \\\n",
       "0             -0.5                  0.5  0.121137  0.008926  0.026096   \n",
       "1             -0.4                  0.8  0.095352  0.124566  0.191357   \n",
       "2             -0.3                  0.3  0.039559  0.024162  0.500384   \n",
       "3             -0.3                  0.3  0.004804  0.194674  0.375055   \n",
       "4              0.0                  0.0  0.044237  0.215996  0.222402   \n",
       "\n",
       "    disgust       sad  speaker_id    list  sentiment_code  \n",
       "0  0.263479  0.531887         _0_  [0, 1]           _NEG_  \n",
       "1  0.016999  0.102045         _1_  [0, 1]           _NEG_  \n",
       "2  0.454228  0.052453         _2_  [1, 0]           _NEG_  \n",
       "3  0.022509  0.383403         _3_  [0, 1]           _NEG_  \n",
       "4  0.045672  0.274343         _4_  [0, 1]             NaN  \n",
       "\n",
       "[5 rows x 25 columns]"
      ]
     },
     "execution_count": 3,
     "metadata": {},
     "output_type": "execute_result"
    }
   ],
   "source": [
    "# view the data\n",
    "fake_news_data.head()"
   ]
  },
  {
   "cell_type": "code",
   "execution_count": 4,
   "id": "f07271d3-01f7-4643-b10c-17e030d21223",
   "metadata": {},
   "outputs": [
    {
     "data": {
      "text/plain": [
       "ID                         0\n",
       "label                      0\n",
       "statement                  0\n",
       "subject                    0\n",
       "speaker                    0\n",
       "speaker_job             3239\n",
       "state_info              2486\n",
       "party_affiliation          0\n",
       "barely_true_counts         0\n",
       "false_counts               0\n",
       "half_true_counts           0\n",
       "mostly_true_counts         0\n",
       "pants_on_fire_counts       0\n",
       "context                  112\n",
       "sentiment               1541\n",
       "sentiment_score            0\n",
       "sentiment_magnitude        0\n",
       "anger                      0\n",
       "fear                       0\n",
       "joy                        0\n",
       "disgust                    0\n",
       "sad                        0\n",
       "speaker_id                 0\n",
       "list                       0\n",
       "sentiment_code          1541\n",
       "dtype: int64"
      ]
     },
     "execution_count": 4,
     "metadata": {},
     "output_type": "execute_result"
    }
   ],
   "source": [
    "# check for null values \n",
    "fake_news_data.isnull().sum()"
   ]
  },
  {
   "cell_type": "code",
   "execution_count": 5,
   "id": "2ce27efa-e307-4bfc-a9a1-839a52868f0b",
   "metadata": {},
   "outputs": [
    {
     "data": {
      "text/html": [
       "<div>\n",
       "<style scoped>\n",
       "    .dataframe tbody tr th:only-of-type {\n",
       "        vertical-align: middle;\n",
       "    }\n",
       "\n",
       "    .dataframe tbody tr th {\n",
       "        vertical-align: top;\n",
       "    }\n",
       "\n",
       "    .dataframe thead th {\n",
       "        text-align: right;\n",
       "    }\n",
       "</style>\n",
       "<table border=\"1\" class=\"dataframe\">\n",
       "  <thead>\n",
       "    <tr style=\"text-align: right;\">\n",
       "      <th></th>\n",
       "      <th>count</th>\n",
       "      <th>%</th>\n",
       "    </tr>\n",
       "  </thead>\n",
       "  <tbody>\n",
       "    <tr>\n",
       "      <th>ID</th>\n",
       "      <td>0</td>\n",
       "      <td>0.000000</td>\n",
       "    </tr>\n",
       "    <tr>\n",
       "      <th>speaker_id</th>\n",
       "      <td>0</td>\n",
       "      <td>0.000000</td>\n",
       "    </tr>\n",
       "    <tr>\n",
       "      <th>sad</th>\n",
       "      <td>0</td>\n",
       "      <td>0.000000</td>\n",
       "    </tr>\n",
       "    <tr>\n",
       "      <th>disgust</th>\n",
       "      <td>0</td>\n",
       "      <td>0.000000</td>\n",
       "    </tr>\n",
       "    <tr>\n",
       "      <th>joy</th>\n",
       "      <td>0</td>\n",
       "      <td>0.000000</td>\n",
       "    </tr>\n",
       "    <tr>\n",
       "      <th>fear</th>\n",
       "      <td>0</td>\n",
       "      <td>0.000000</td>\n",
       "    </tr>\n",
       "    <tr>\n",
       "      <th>anger</th>\n",
       "      <td>0</td>\n",
       "      <td>0.000000</td>\n",
       "    </tr>\n",
       "    <tr>\n",
       "      <th>sentiment_magnitude</th>\n",
       "      <td>0</td>\n",
       "      <td>0.000000</td>\n",
       "    </tr>\n",
       "    <tr>\n",
       "      <th>sentiment_score</th>\n",
       "      <td>0</td>\n",
       "      <td>0.000000</td>\n",
       "    </tr>\n",
       "    <tr>\n",
       "      <th>list</th>\n",
       "      <td>0</td>\n",
       "      <td>0.000000</td>\n",
       "    </tr>\n",
       "    <tr>\n",
       "      <th>mostly_true_counts</th>\n",
       "      <td>0</td>\n",
       "      <td>0.000000</td>\n",
       "    </tr>\n",
       "    <tr>\n",
       "      <th>pants_on_fire_counts</th>\n",
       "      <td>0</td>\n",
       "      <td>0.000000</td>\n",
       "    </tr>\n",
       "    <tr>\n",
       "      <th>false_counts</th>\n",
       "      <td>0</td>\n",
       "      <td>0.000000</td>\n",
       "    </tr>\n",
       "    <tr>\n",
       "      <th>barely_true_counts</th>\n",
       "      <td>0</td>\n",
       "      <td>0.000000</td>\n",
       "    </tr>\n",
       "    <tr>\n",
       "      <th>party_affiliation</th>\n",
       "      <td>0</td>\n",
       "      <td>0.000000</td>\n",
       "    </tr>\n",
       "    <tr>\n",
       "      <th>speaker</th>\n",
       "      <td>0</td>\n",
       "      <td>0.000000</td>\n",
       "    </tr>\n",
       "    <tr>\n",
       "      <th>subject</th>\n",
       "      <td>0</td>\n",
       "      <td>0.000000</td>\n",
       "    </tr>\n",
       "    <tr>\n",
       "      <th>statement</th>\n",
       "      <td>0</td>\n",
       "      <td>0.000000</td>\n",
       "    </tr>\n",
       "    <tr>\n",
       "      <th>label</th>\n",
       "      <td>0</td>\n",
       "      <td>0.000000</td>\n",
       "    </tr>\n",
       "    <tr>\n",
       "      <th>half_true_counts</th>\n",
       "      <td>0</td>\n",
       "      <td>0.000000</td>\n",
       "    </tr>\n",
       "    <tr>\n",
       "      <th>context</th>\n",
       "      <td>112</td>\n",
       "      <td>0.972307</td>\n",
       "    </tr>\n",
       "    <tr>\n",
       "      <th>sentiment</th>\n",
       "      <td>1541</td>\n",
       "      <td>13.377897</td>\n",
       "    </tr>\n",
       "    <tr>\n",
       "      <th>sentiment_code</th>\n",
       "      <td>1541</td>\n",
       "      <td>13.377897</td>\n",
       "    </tr>\n",
       "    <tr>\n",
       "      <th>state_info</th>\n",
       "      <td>2486</td>\n",
       "      <td>21.581735</td>\n",
       "    </tr>\n",
       "    <tr>\n",
       "      <th>speaker_job</th>\n",
       "      <td>3239</td>\n",
       "      <td>28.118760</td>\n",
       "    </tr>\n",
       "  </tbody>\n",
       "</table>\n",
       "</div>"
      ],
      "text/plain": [
       "                      count          %\n",
       "ID                        0   0.000000\n",
       "speaker_id                0   0.000000\n",
       "sad                       0   0.000000\n",
       "disgust                   0   0.000000\n",
       "joy                       0   0.000000\n",
       "fear                      0   0.000000\n",
       "anger                     0   0.000000\n",
       "sentiment_magnitude       0   0.000000\n",
       "sentiment_score           0   0.000000\n",
       "list                      0   0.000000\n",
       "mostly_true_counts        0   0.000000\n",
       "pants_on_fire_counts      0   0.000000\n",
       "false_counts              0   0.000000\n",
       "barely_true_counts        0   0.000000\n",
       "party_affiliation         0   0.000000\n",
       "speaker                   0   0.000000\n",
       "subject                   0   0.000000\n",
       "statement                 0   0.000000\n",
       "label                     0   0.000000\n",
       "half_true_counts          0   0.000000\n",
       "context                 112   0.972307\n",
       "sentiment              1541  13.377897\n",
       "sentiment_code         1541  13.377897\n",
       "state_info             2486  21.581735\n",
       "speaker_job            3239  28.118760"
      ]
     },
     "execution_count": 5,
     "metadata": {},
     "output_type": "execute_result"
    }
   ],
   "source": [
    "missing = pd.concat([fake_news_data.isnull().sum(), 100 * fake_news_data.isnull().mean()], axis=1)\n",
    "missing.columns=['count', '%']\n",
    "missing.sort_values(by='count')"
   ]
  },
  {
   "cell_type": "code",
   "execution_count": 6,
   "id": "79b8ab4a-2553-4876-b10e-8c856b6effcf",
   "metadata": {},
   "outputs": [
    {
     "name": "stdout",
     "output_type": "stream",
     "text": [
      "<class 'pandas.core.frame.DataFrame'>\n",
      "RangeIndex: 11519 entries, 0 to 11518\n",
      "Data columns (total 25 columns):\n",
      " #   Column                Non-Null Count  Dtype  \n",
      "---  ------                --------------  -----  \n",
      " 0   ID                    11519 non-null  object \n",
      " 1   label                 11519 non-null  object \n",
      " 2   statement             11519 non-null  object \n",
      " 3   subject               11519 non-null  object \n",
      " 4   speaker               11519 non-null  object \n",
      " 5   speaker_job           8280 non-null   object \n",
      " 6   state_info            9033 non-null   object \n",
      " 7   party_affiliation     11519 non-null  object \n",
      " 8   barely_true_counts    11519 non-null  float64\n",
      " 9   false_counts          11519 non-null  float64\n",
      " 10  half_true_counts      11519 non-null  float64\n",
      " 11  mostly_true_counts    11519 non-null  float64\n",
      " 12  pants_on_fire_counts  11519 non-null  float64\n",
      " 13  context               11407 non-null  object \n",
      " 14  sentiment             9978 non-null   object \n",
      " 15  sentiment_score       11519 non-null  float64\n",
      " 16  sentiment_magnitude   11519 non-null  float64\n",
      " 17  anger                 11519 non-null  float64\n",
      " 18  fear                  11519 non-null  float64\n",
      " 19  joy                   11519 non-null  float64\n",
      " 20  disgust               11519 non-null  float64\n",
      " 21  sad                   11519 non-null  float64\n",
      " 22  speaker_id            11519 non-null  object \n",
      " 23  list                  11519 non-null  object \n",
      " 24  sentiment_code        9978 non-null   object \n",
      "dtypes: float64(12), object(13)\n",
      "memory usage: 2.2+ MB\n"
     ]
    }
   ],
   "source": [
    "# get genral overview of the datatypes the the data has. \n",
    "fake_news_data.info()"
   ]
  },
  {
   "cell_type": "code",
   "execution_count": 7,
   "id": "aa12c1ec-884d-4983-b561-20146cd69682",
   "metadata": {},
   "outputs": [
    {
     "data": {
      "text/plain": [
       "0    Says the Annies List political group supports ...\n",
       "1    When did the decline of coal start? It started...\n",
       "2    Hillary Clinton agrees with John McCain \"by vo...\n",
       "3    Health care reform legislation is likely to ma...\n",
       "4    The economic turnaround started at the end of ...\n",
       "Name: statement, dtype: object"
      ]
     },
     "execution_count": 7,
     "metadata": {},
     "output_type": "execute_result"
    }
   ],
   "source": [
    "# This is the feild that we are interseted in \n",
    "fake_news_data['statement'].head()"
   ]
  },
  {
   "cell_type": "code",
   "execution_count": 8,
   "id": "e781e131-520f-4226-8910-5ed7ff618af4",
   "metadata": {},
   "outputs": [],
   "source": [
    "# the statement feild does not show the full text so, we use set_option to get full text. \n",
    "pd.set_option(\"display.max_colwidth\", None)"
   ]
  },
  {
   "cell_type": "code",
   "execution_count": 9,
   "id": "abc6e1b5-6462-43e0-ad95-9b221bb9c6f4",
   "metadata": {},
   "outputs": [
    {
     "data": {
      "text/plain": [
       "0                                                               Says the Annies List political group supports third-trimester abortions on demand.\n",
       "1    When did the decline of coal start? It started when natural gas took off that started to begin in (President George W.) Bushs administration.\n",
       "2                                        Hillary Clinton agrees with John McCain \"by voting to give George Bush the benefit of the doubt on Iran.\"\n",
       "3                                                                   Health care reform legislation is likely to mandate free sex change surgeries.\n",
       "4                                                                                           The economic turnaround started at the end of my term.\n",
       "Name: statement, dtype: object"
      ]
     },
     "execution_count": 9,
     "metadata": {},
     "output_type": "execute_result"
    }
   ],
   "source": [
    "fake_news_data['statement'].head()"
   ]
  },
  {
   "cell_type": "code",
   "execution_count": 10,
   "id": "b585fae7-395f-40fe-aa7c-0defbf92ba18",
   "metadata": {},
   "outputs": [
    {
     "data": {
      "text/plain": [
       "ID                                                                                               2635.json\n",
       "label                                                                                                false\n",
       "statement               Says the Annies List political group supports third-trimester abortions on demand.\n",
       "subject                                                                                           abortion\n",
       "speaker                                                                                       dwayne-bohac\n",
       "speaker_job                                                                           State representative\n",
       "state_info                                                                                           Texas\n",
       "party_affiliation                                                                               republican\n",
       "barely_true_counts                                                                                     0.0\n",
       "false_counts                                                                                           1.0\n",
       "half_true_counts                                                                                       0.0\n",
       "mostly_true_counts                                                                                     0.0\n",
       "pants_on_fire_counts                                                                                   0.0\n",
       "context                                                                                           a mailer\n",
       "sentiment                                                                                         NEGATIVE\n",
       "sentiment_score                                                                                       -0.5\n",
       "sentiment_magnitude                                                                                    0.5\n",
       "anger                                                                                             0.121137\n",
       "fear                                                                                              0.008926\n",
       "joy                                                                                               0.026096\n",
       "disgust                                                                                           0.263479\n",
       "sad                                                                                               0.531887\n",
       "speaker_id                                                                                             _0_\n",
       "list                                                                                                [0, 1]\n",
       "sentiment_code                                                                                       _NEG_\n",
       "Name: 0, dtype: object"
      ]
     },
     "execution_count": 10,
     "metadata": {},
     "output_type": "execute_result"
    }
   ],
   "source": [
    "fake_news_data.iloc[0]"
   ]
  },
  {
   "cell_type": "code",
   "execution_count": 11,
   "id": "53e84f16-b6ee-4514-ac27-f5dc51f695e3",
   "metadata": {},
   "outputs": [
    {
     "data": {
      "text/plain": [
       "label\n",
       "half-true      2361\n",
       "false          2255\n",
       "mostly-true    2213\n",
       "barely-true    1891\n",
       "true           1845\n",
       "pants-fire      954\n",
       "Name: count, dtype: int64"
      ]
     },
     "execution_count": 11,
     "metadata": {},
     "output_type": "execute_result"
    }
   ],
   "source": [
    "# uderstand and get distusbusion of the labels. \n",
    "fake_news_data['label'].value_counts()"
   ]
  },
  {
   "cell_type": "code",
   "execution_count": 12,
   "id": "c6715eeb-2b0d-4dab-9149-7e3aaf9b8174",
   "metadata": {},
   "outputs": [
    {
     "data": {
      "text/plain": [
       "subject\n",
       "health-care                                        434\n",
       "taxes                                              337\n",
       "immigration                                        285\n",
       "education                                          279\n",
       "elections                                          273\n",
       "                                                  ... \n",
       "elections,labor,workers                              1\n",
       "health-care,medicare,10-news-tampa-bay               1\n",
       "environment,government-regulation,public-health      1\n",
       "baseball,economy,florida                             1\n",
       "candidates-biography,infrastructure                  1\n",
       "Name: count, Length: 4190, dtype: int64"
      ]
     },
     "execution_count": 12,
     "metadata": {},
     "output_type": "execute_result"
    }
   ],
   "source": [
    "# see the subject that is most talked about\n",
    "fake_news_data['subject'].value_counts()"
   ]
  },
  {
   "cell_type": "code",
   "execution_count": 13,
   "id": "0bef3c87-dc07-48a4-81da-0a3b77eb30ca",
   "metadata": {},
   "outputs": [
    {
     "data": {
      "text/plain": [
       "speaker\n",
       "barack-obama        549\n",
       "donald-trump        310\n",
       "hillary-clinton     266\n",
       "mitt-romney         195\n",
       "john-mccain         168\n",
       "                   ... \n",
       "d-king                1\n",
       "burrell-ellis         1\n",
       "david-segal           1\n",
       "hilary-treadwell      1\n",
       "sal-esquivel          1\n",
       "Name: count, Length: 3125, dtype: int64"
      ]
     },
     "execution_count": 13,
     "metadata": {},
     "output_type": "execute_result"
    }
   ],
   "source": [
    "# We see that this data mostly focus on Obama and Trump. \n",
    "fake_news_data['speaker'].value_counts()"
   ]
  },
  {
   "cell_type": "code",
   "execution_count": 14,
   "id": "3c35f795-789f-4653-83ed-639f4c4d7bdd",
   "metadata": {},
   "outputs": [
    {
     "data": {
      "text/plain": [
       "state_info\n",
       "Texas             1135\n",
       "Florida           1114\n",
       "Wisconsin          799\n",
       "New York           744\n",
       "Illinois           624\n",
       "                  ... \n",
       "Qatar                1\n",
       "New Hampshire        1\n",
       "Virginia             1\n",
       "United Kingdom       1\n",
       "Georgia              1\n",
       "Name: count, Length: 84, dtype: int64"
      ]
     },
     "execution_count": 14,
     "metadata": {},
     "output_type": "execute_result"
    }
   ],
   "source": [
    "# We understand which state is mention the most. \n",
    "fake_news_data['state_info'].value_counts()"
   ]
  },
  {
   "cell_type": "code",
   "execution_count": 15,
   "id": "7fd5c728-bd2c-40fc-8e88-78646d8303dc",
   "metadata": {},
   "outputs": [
    {
     "data": {
      "text/plain": [
       "party_affiliation\n",
       "republican                      5092\n",
       "democrat                        3730\n",
       "none                            1967\n",
       "organization                     237\n",
       "independent                      166\n",
       "newsmaker                         63\n",
       "libertarian                       46\n",
       "activist                          43\n",
       "journalist                        40\n",
       "columnist                         37\n",
       "talk-show-host                    29\n",
       "state-official                    20\n",
       "labor-leader                      15\n",
       "business-leader                   10\n",
       "tea-party-member                  10\n",
       "education-official                 3\n",
       "green                              3\n",
       "constitution-party                 2\n",
       "liberal-party-canada               1\n",
       "government-body                    1\n",
       "Moderate                           1\n",
       "democratic-farmer-labor            1\n",
       "ocean-state-tea-party-action       1\n",
       "county-commissioner                1\n",
       "Name: count, dtype: int64"
      ]
     },
     "execution_count": 15,
     "metadata": {},
     "output_type": "execute_result"
    }
   ],
   "source": [
    "fake_news_data['party_affiliation'].value_counts()"
   ]
  },
  {
   "cell_type": "code",
   "execution_count": 16,
   "id": "556782c9-07db-48f5-baf7-126f9c1414f5",
   "metadata": {},
   "outputs": [
    {
     "data": {
      "text/plain": [
       "speaker_job\n",
       "President                                                                553\n",
       "U.S. Senator                                                             540\n",
       "Governor                                                                 432\n",
       "President-Elect                                                          310\n",
       "U.S. senator                                                             292\n",
       "                                                                        ... \n",
       "artist                                                                     1\n",
       "DeKalb County Chief Executive Officer                                      1\n",
       "Human resources director                                                   1\n",
       "managing partner at Nexus Homes                                            1\n",
       "Director, Center for Higher Education, Texas Public Policy Foundation      1\n",
       "Name: count, Length: 1269, dtype: int64"
      ]
     },
     "execution_count": 16,
     "metadata": {},
     "output_type": "execute_result"
    }
   ],
   "source": [
    "fake_news_data['speaker_job'].value_counts()"
   ]
  },
  {
   "cell_type": "code",
   "execution_count": 17,
   "id": "c32e4351-45d2-47bf-8c64-c7d0a1acb493",
   "metadata": {},
   "outputs": [
    {
     "data": {
      "image/png": "[encoded data removed]",
      "text/plain": [
       "<Figure size 1500x1000 with 12 Axes>"
      ]
     },
     "metadata": {},
     "output_type": "display_data"
    }
   ],
   "source": [
    "# We ploted all the numeric data to this what feild is usefull and which not. \n",
    "fake_news_data.hist(figsize=(15,10))\n",
    "plt.subplots_adjust(hspace=0.5)"
   ]
  },
  {
   "cell_type": "code",
   "execution_count": 18,
   "id": "6dfe3d7d-0ab4-4b51-9113-5c31eff646f8",
   "metadata": {},
   "outputs": [
    {
     "data": {
      "text/plain": [
       "84"
      ]
     },
     "execution_count": 18,
     "metadata": {},
     "output_type": "execute_result"
    }
   ],
   "source": [
    "# US has 50 states not 84\n",
    "fake_news_data['state_info'].nunique()"
   ]
  },
  {
   "cell_type": "code",
   "execution_count": 19,
   "id": "cb536d01-7d15-4f22-ad79-8fbc18b8d861",
   "metadata": {},
   "outputs": [
    {
     "data": {
      "text/plain": [
       "speaker_job\n",
       "President                                                                553\n",
       "U.S. Senator                                                             540\n",
       "Governor                                                                 432\n",
       "President-Elect                                                          310\n",
       "U.S. senator                                                             292\n",
       "                                                                        ... \n",
       "artist                                                                     1\n",
       "DeKalb County Chief Executive Officer                                      1\n",
       "Human resources director                                                   1\n",
       "managing partner at Nexus Homes                                            1\n",
       "Director, Center for Higher Education, Texas Public Policy Foundation      1\n",
       "Name: count, Length: 1269, dtype: int64"
      ]
     },
     "execution_count": 19,
     "metadata": {},
     "output_type": "execute_result"
    }
   ],
   "source": [
    "fake_news_data['speaker_job'].value_counts()"
   ]
  },
  {
   "cell_type": "code",
   "execution_count": 20,
   "id": "9b5db43e-9911-48c8-af38-30be085b69c5",
   "metadata": {},
   "outputs": [],
   "source": [
    "# make all text lowercase for better training the model\n",
    "fake_news_data['statement'] = fake_news_data['statement'].str.lower()"
   ]
  },
  {
   "cell_type": "code",
   "execution_count": 21,
   "id": "fa9ccca3-0914-4aad-a442-8c997aafb9ef",
   "metadata": {},
   "outputs": [
    {
     "data": {
      "text/plain": [
       "label\n",
       "false          5100\n",
       "half-true      2361\n",
       "mostly-true    2213\n",
       "true           1845\n",
       "Name: count, dtype: int64"
      ]
     },
     "execution_count": 21,
     "metadata": {},
     "output_type": "execute_result"
    }
   ],
   "source": [
    "# replace \"pants-fire\", \"barely-true\" to \"false\"\n",
    "fake_news_data['label'] = fake_news_data['label'].replace(['pants-fire', 'barely-true'],'false')\n",
    "fake_news_data['label'].value_counts()"
   ]
  },
  {
   "cell_type": "code",
   "execution_count": 22,
   "id": "2fa92f12-b91d-4e2c-aa7d-29f31c18c837",
   "metadata": {},
   "outputs": [
    {
     "data": {
      "text/plain": [
       "label\n",
       "true     6419\n",
       "false    5100\n",
       "Name: count, dtype: int64"
      ]
     },
     "execution_count": 22,
     "metadata": {},
     "output_type": "execute_result"
    }
   ],
   "source": [
    "# replace \"half-true\", \"mostly-true\" to \"true\"\n",
    "fake_news_data['label'] = fake_news_data['label'].replace(['half-true', 'mostly-true'],'true')\n",
    "fake_news_data['label'].value_counts()"
   ]
  },
  {
   "cell_type": "code",
   "execution_count": 23,
   "id": "edf82aea-754c-4033-ad2b-6574d3a68c8b",
   "metadata": {},
   "outputs": [],
   "source": [
    "fake_news_data[fake_news_data.duplicated()]\n",
    "fake_news_data = fake_news_data.drop_duplicates()"
   ]
  },
  {
   "cell_type": "code",
   "execution_count": 24,
   "id": "c07c5b3c-638c-4e76-99d3-1043e314e001",
   "metadata": {},
   "outputs": [],
   "source": [
    "# remove all the punctuations from the text\n",
    "fake_news_data['statement'] = fake_news_data['statement'].replace(r'[^\\s\\w0-9]', '', regex=True)"
   ]
  },
  {
   "cell_type": "code",
   "execution_count": 25,
   "id": "ffe513e7-4e63-4f75-9e50-53c94e533d61",
   "metadata": {},
   "outputs": [],
   "source": [
    "# some of the states had missed spelled state name or in different format so we change them to same.\n",
    "fake_news_data['state_info'] = fake_news_data['state_info'].replace([\"District of Columbia\", \"Washington D.C.\", \"Washington, D.C.\", \"Washington DC\"], \"Washington D.C.\")\n",
    "fake_news_data['state_info'] = fake_news_data['state_info'].replace([\"Tex\", \"Texas\"], \"Texas\")\n",
    "fake_news_data['state_info'] = fake_news_data['state_info'].replace([\"Washington\", \"Washington state\"], \"Washington\")\n",
    "fake_news_data['state_info'] = fake_news_data['state_info'].replace([\"Virginia\", \"Virgina\", \"Virgiia\"], \"Virginia\")\n",
    "fake_news_data['state_info'] = fake_news_data['state_info'].replace([\"Pennsylvania\", \"PA - Pennsylvania\"], \"Pennsylvania\")\n",
    "fake_news_data['state_info'] = fake_news_data['state_info'].replace([\"Rhode Island\", \"Rhode island\"], \"Rhode Island\")\n",
    "fake_news_data['state_info'] = fake_news_data['state_info'].replace([\"Ohio\", \"ohio\"], \"Ohio\")\n",
    "fake_news_data['state_info'] = fake_news_data['state_info'].replace([\"Tennessee\", \"Tennesse\"], \"Tennessee\")"
   ]
  },
  {
   "cell_type": "code",
   "execution_count": 26,
   "id": "7e095717-0c1f-44f8-9799-6d823f58a81e",
   "metadata": {},
   "outputs": [],
   "source": [
    "us_state = ['Alabama','Alaska','Arizona','Arkansas','California','Colorado','Connecticut','Delaware','Florida','Georgia','Hawaii','Idaho','Illinois',\n",
    "            'Indiana','Iowa','Kansas','Kentucky','Louisiana','Maine','Maryland','Massachusetts','Michigan','Minnesota','Mississippi','Missouri','Montana',\n",
    "            'Nebraska','Nevada','New Hampshire','New Jersey','New Mexico','New York','North Carolina','North Dakota','Ohio','Oklahoma','Oregon',\n",
    "            'Pennsylvania','Rhode Island','South Carolina','South Dakota','Tennessee','Texas','Utah','Vermont','Virginia','Washington','West Virginia',\n",
    "            'Wisconsin','Wyoming','District of Columbia', 'Washington, D.C.']\n",
    "\n",
    "fake_news_data = fake_news_data[fake_news_data['state_info'].isin(us_state)]"
   ]
  },
  {
   "cell_type": "code",
   "execution_count": 27,
   "id": "7a145bca-25c3-4f54-bbfa-c5a191d6cec6",
   "metadata": {},
   "outputs": [
    {
     "name": "stdout",
     "output_type": "stream",
     "text": [
      "<class 'pandas.core.frame.DataFrame'>\n",
      "Index: 8825 entries, 0 to 11518\n",
      "Data columns (total 25 columns):\n",
      " #   Column                Non-Null Count  Dtype  \n",
      "---  ------                --------------  -----  \n",
      " 0   ID                    8825 non-null   object \n",
      " 1   label                 8825 non-null   object \n",
      " 2   statement             8825 non-null   object \n",
      " 3   subject               8825 non-null   object \n",
      " 4   speaker               8825 non-null   object \n",
      " 5   speaker_job           7506 non-null   object \n",
      " 6   state_info            8825 non-null   object \n",
      " 7   party_affiliation     8825 non-null   object \n",
      " 8   barely_true_counts    8825 non-null   float64\n",
      " 9   false_counts          8825 non-null   float64\n",
      " 10  half_true_counts      8825 non-null   float64\n",
      " 11  mostly_true_counts    8825 non-null   float64\n",
      " 12  pants_on_fire_counts  8825 non-null   float64\n",
      " 13  context               8742 non-null   object \n",
      " 14  sentiment             7645 non-null   object \n",
      " 15  sentiment_score       8825 non-null   float64\n",
      " 16  sentiment_magnitude   8825 non-null   float64\n",
      " 17  anger                 8825 non-null   float64\n",
      " 18  fear                  8825 non-null   float64\n",
      " 19  joy                   8825 non-null   float64\n",
      " 20  disgust               8825 non-null   float64\n",
      " 21  sad                   8825 non-null   float64\n",
      " 22  speaker_id            8825 non-null   object \n",
      " 23  list                  8825 non-null   object \n",
      " 24  sentiment_code        7645 non-null   object \n",
      "dtypes: float64(12), object(13)\n",
      "memory usage: 1.8+ MB\n"
     ]
    }
   ],
   "source": [
    "fake_news_data.info()"
   ]
  },
  {
   "cell_type": "code",
   "execution_count": 28,
   "id": "eccb1730-f2ba-458d-be6d-b193dd8d51a5",
   "metadata": {},
   "outputs": [],
   "source": [
    "fake_news_scale = fake_news_data[['barely_true_counts', 'false_counts', 'half_true_counts', 'mostly_true_counts', 'pants_on_fire_counts', 'sentiment_score', 'anger', 'fear', 'joy', 'disgust', 'sad']]"
   ]
  },
  {
   "cell_type": "code",
   "execution_count": 29,
   "id": "892562e8-5587-4c1c-ba2e-5301b9e3d8f8",
   "metadata": {},
   "outputs": [],
   "source": [
    "# we scale the data for PCA\n",
    "fake_scale = scale(fake_news_scale)"
   ]
  },
  {
   "cell_type": "code",
   "execution_count": 30,
   "id": "54235cbe-4f13-476a-b3d8-2d7ccd88d1ea",
   "metadata": {},
   "outputs": [
    {
     "data": {
      "text/html": [
       "<div>\n",
       "<style scoped>\n",
       "    .dataframe tbody tr th:only-of-type {\n",
       "        vertical-align: middle;\n",
       "    }\n",
       "\n",
       "    .dataframe tbody tr th {\n",
       "        vertical-align: top;\n",
       "    }\n",
       "\n",
       "    .dataframe thead th {\n",
       "        text-align: right;\n",
       "    }\n",
       "</style>\n",
       "<table border=\"1\" class=\"dataframe\">\n",
       "  <thead>\n",
       "    <tr style=\"text-align: right;\">\n",
       "      <th></th>\n",
       "      <th>barely_true_counts</th>\n",
       "      <th>false_counts</th>\n",
       "      <th>half_true_counts</th>\n",
       "      <th>mostly_true_counts</th>\n",
       "      <th>pants_on_fire_counts</th>\n",
       "      <th>sentiment_score</th>\n",
       "      <th>anger</th>\n",
       "      <th>fear</th>\n",
       "      <th>joy</th>\n",
       "      <th>disgust</th>\n",
       "      <th>sad</th>\n",
       "    </tr>\n",
       "  </thead>\n",
       "  <tbody>\n",
       "    <tr>\n",
       "      <th>0</th>\n",
       "      <td>-0.674013</td>\n",
       "      <td>-0.556981</td>\n",
       "      <td>-0.539551</td>\n",
       "      <td>-0.517016</td>\n",
       "      <td>-0.450707</td>\n",
       "      <td>-0.606948</td>\n",
       "      <td>-0.304710</td>\n",
       "      <td>-1.180478</td>\n",
       "      <td>-0.973070</td>\n",
       "      <td>0.422642</td>\n",
       "      <td>1.304971</td>\n",
       "    </tr>\n",
       "    <tr>\n",
       "      <th>1</th>\n",
       "      <td>-0.674013</td>\n",
       "      <td>-0.594711</td>\n",
       "      <td>-0.514468</td>\n",
       "      <td>-0.492173</td>\n",
       "      <td>-0.450707</td>\n",
       "      <td>-0.312807</td>\n",
       "      <td>-0.529394</td>\n",
       "      <td>-0.115020</td>\n",
       "      <td>0.089596</td>\n",
       "      <td>-1.128047</td>\n",
       "      <td>-1.261463</td>\n",
       "    </tr>\n",
       "    <tr>\n",
       "      <th>2</th>\n",
       "      <td>2.675746</td>\n",
       "      <td>2.084181</td>\n",
       "      <td>3.473780</td>\n",
       "      <td>3.532304</td>\n",
       "      <td>0.325759</td>\n",
       "      <td>-0.018665</td>\n",
       "      <td>-1.015561</td>\n",
       "      <td>-1.040100</td>\n",
       "      <td>2.076712</td>\n",
       "      <td>1.622708</td>\n",
       "      <td>-1.557559</td>\n",
       "    </tr>\n",
       "    <tr>\n",
       "      <th>3</th>\n",
       "      <td>0.043792</td>\n",
       "      <td>-0.255133</td>\n",
       "      <td>-0.037885</td>\n",
       "      <td>-0.045009</td>\n",
       "      <td>-0.278159</td>\n",
       "      <td>0.863759</td>\n",
       "      <td>-0.974798</td>\n",
       "      <td>0.727378</td>\n",
       "      <td>0.289223</td>\n",
       "      <td>-0.947656</td>\n",
       "      <td>-0.232733</td>\n",
       "    </tr>\n",
       "    <tr>\n",
       "      <th>4</th>\n",
       "      <td>-0.674013</td>\n",
       "      <td>-0.481519</td>\n",
       "      <td>-0.489385</td>\n",
       "      <td>-0.392803</td>\n",
       "      <td>-0.364433</td>\n",
       "      <td>-0.018665</td>\n",
       "      <td>-0.972210</td>\n",
       "      <td>-0.919577</td>\n",
       "      <td>0.754103</td>\n",
       "      <td>-1.008908</td>\n",
       "      <td>1.705506</td>\n",
       "    </tr>\n",
       "  </tbody>\n",
       "</table>\n",
       "</div>"
      ],
      "text/plain": [
       "   barely_true_counts  false_counts  half_true_counts  mostly_true_counts  \\\n",
       "0           -0.674013     -0.556981         -0.539551           -0.517016   \n",
       "1           -0.674013     -0.594711         -0.514468           -0.492173   \n",
       "2            2.675746      2.084181          3.473780            3.532304   \n",
       "3            0.043792     -0.255133         -0.037885           -0.045009   \n",
       "4           -0.674013     -0.481519         -0.489385           -0.392803   \n",
       "\n",
       "   pants_on_fire_counts  sentiment_score     anger      fear       joy  \\\n",
       "0             -0.450707        -0.606948 -0.304710 -1.180478 -0.973070   \n",
       "1             -0.450707        -0.312807 -0.529394 -0.115020  0.089596   \n",
       "2              0.325759        -0.018665 -1.015561 -1.040100  2.076712   \n",
       "3             -0.278159         0.863759 -0.974798  0.727378  0.289223   \n",
       "4             -0.364433        -0.018665 -0.972210 -0.919577  0.754103   \n",
       "\n",
       "    disgust       sad  \n",
       "0  0.422642  1.304971  \n",
       "1 -1.128047 -1.261463  \n",
       "2  1.622708 -1.557559  \n",
       "3 -0.947656 -0.232733  \n",
       "4 -1.008908  1.705506  "
      ]
     },
     "execution_count": 30,
     "metadata": {},
     "output_type": "execute_result"
    }
   ],
   "source": [
    "fake_news_scaled_df = pd.DataFrame(fake_scale, columns=fake_news_scale.columns)\n",
    "fake_news_scaled_df.head()"
   ]
  },
  {
   "cell_type": "code",
   "execution_count": 31,
   "id": "e6acc993-5751-44d6-a15c-61fa8c2a5909",
   "metadata": {},
   "outputs": [
    {
     "data": {
      "text/plain": [
       "barely_true_counts      3.301105e-17\n",
       "false_counts           -4.267282e-17\n",
       "half_true_counts       -4.710113e-17\n",
       "mostly_true_counts      3.502392e-17\n",
       "pants_on_fire_counts    2.415443e-18\n",
       "sentiment_score        -5.233459e-18\n",
       "anger                  -1.272133e-16\n",
       "fear                   -1.171490e-16\n",
       "joy                    -1.570038e-17\n",
       "disgust                 1.851839e-17\n",
       "sad                     2.999175e-17\n",
       "dtype: float64"
      ]
     },
     "execution_count": 31,
     "metadata": {},
     "output_type": "execute_result"
    }
   ],
   "source": [
    "fake_news_scaled_df.mean()"
   ]
  },
  {
   "cell_type": "code",
   "execution_count": 32,
   "id": "417c3f52-8dbc-4b5e-8314-9a205189d9a7",
   "metadata": {},
   "outputs": [
    {
     "data": {
      "text/plain": [
       "barely_true_counts      1.000057\n",
       "false_counts            1.000057\n",
       "half_true_counts        1.000057\n",
       "mostly_true_counts      1.000057\n",
       "pants_on_fire_counts    1.000057\n",
       "sentiment_score         1.000057\n",
       "anger                   1.000057\n",
       "fear                    1.000057\n",
       "joy                     1.000057\n",
       "disgust                 1.000057\n",
       "sad                     1.000057\n",
       "dtype: float64"
      ]
     },
     "execution_count": 32,
     "metadata": {},
     "output_type": "execute_result"
    }
   ],
   "source": [
    "fake_news_scaled_df.std()"
   ]
  },
  {
   "cell_type": "code",
   "execution_count": 33,
   "id": "16e51fec-59d8-46cd-8c82-67ebd720a7fd",
   "metadata": {},
   "outputs": [],
   "source": [
    "# we apply the PCA on our data and see the result. \n",
    "fake_news_pca = PCA().fit(fake_news_scaled_df)"
   ]
  },
  {
   "cell_type": "code",
   "execution_count": 34,
   "id": "5450367d-8fee-4d1d-b236-717bf5342aa1",
   "metadata": {},
   "outputs": [
    {
     "data": {
      "text/plain": [
       "array([0.36248821, 0.19075018, 0.1172719 , 0.08752494, 0.08167944,\n",
       "       0.0634569 , 0.05599259, 0.03574434, 0.00260611, 0.00199991,\n",
       "       0.00048547])"
      ]
     },
     "execution_count": 34,
     "metadata": {},
     "output_type": "execute_result"
    }
   ],
   "source": [
    "fake_news_pca.explained_variance_ratio_"
   ]
  },
  {
   "cell_type": "code",
   "execution_count": 35,
   "id": "6ab57f06-aac1-493e-a6fe-3e665c9a94b2",
   "metadata": {},
   "outputs": [
    {
     "data": {
      "text/plain": [
       "Text(0, 0.5, 'Cumulative ratio variance')"
      ]
     },
     "execution_count": 35,
     "metadata": {},
     "output_type": "execute_result"
    },
    {
     "data": {
      "image/png": "[encoded data removed]",
      "text/plain": [
       "<Figure size 640x480 with 1 Axes>"
      ]
     },
     "metadata": {},
     "output_type": "display_data"
    }
   ],
   "source": [
    "# This tells us that about 4 fetaures are about 0.80 important for the data and about 6 fetaures are 0.90 important. \n",
    "plt.plot(fake_news_pca.explained_variance_ratio_.cumsum())\n",
    "plt.xlabel('Component #')\n",
    "plt.ylabel('Cumulative ratio variance')"
   ]
  },
  {
   "cell_type": "code",
   "execution_count": 36,
   "id": "d3009bd9-cd70-40ed-bc4e-67bda5d910af",
   "metadata": {},
   "outputs": [
    {
     "name": "stderr",
     "output_type": "stream",
     "text": [
      "C:\\Users\\17326\\AppData\\Local\\Temp\\ipykernel_23208\\2473114479.py:2: FutureWarning: Downcasting behavior in `replace` is deprecated and will be removed in a future version. To retain the old behavior, explicitly call `result.infer_objects(copy=False)`. To opt-in to the future behavior, set `pd.set_option('future.no_silent_downcasting', True)`\n",
      "  fake_news_data['num_label'] = fake_news_data['label'].replace({'false' : 0, 'true' : 1})\n"
     ]
    }
   ],
   "source": [
    "# create a new column that turns labels into binary values 0 and 1\n",
    "fake_news_data['num_label'] = fake_news_data['label'].replace({'false' : 0, 'true' : 1})"
   ]
  },
  {
   "cell_type": "code",
   "execution_count": 37,
   "id": "bdb0b4d6-403d-4be2-83dd-7f4027cce025",
   "metadata": {},
   "outputs": [],
   "source": [
    "# Select features and target\n",
    "X = fake_news_data['statement']\n",
    "y = fake_news_data['num_label']\n",
    "\n",
    "vectorization = CountVectorizer()\n",
    "vectorization2 = TfidfVectorizer(min_df=60)\n",
    "\n",
    "# Split the data\n",
    "X_train, X_test, y_train, y_test = train_test_split(X, y, test_size=0.2, random_state=42)\n",
    "\n",
    "xv_train = vectorization.fit_transform(X_train)\n",
    "xv_test = vectorization.transform(X_test)\n",
    "\n",
    "xv_train2 = vectorization2.fit_transform(X_train)\n",
    "xv_test2 = vectorization2.transform(X_test)"
   ]
  },
  {
   "cell_type": "code",
   "execution_count": 38,
   "id": "0bff365d-9883-4180-9cb2-35fdaaa01ef4",
   "metadata": {},
   "outputs": [],
   "source": [
    "# we using MultinomialNB to predict words that are most likely to get us a fake news vs words that mostly likely give Real news. \n",
    "clf = MultinomialNB().fit(xv_train2, y_train)"
   ]
  },
  {
   "cell_type": "code",
   "execution_count": 39,
   "id": "4ac61919-68ef-4e77-9d78-482ea352c88e",
   "metadata": {},
   "outputs": [
    {
     "name": "stdout",
     "output_type": "stream",
     "text": [
      "True words\t     P(word | %)\n",
      "                half 0.80\n",
      "                  40 0.77\n",
      "               three 0.77\n",
      "             workers 0.76\n",
      "                weve 0.75\n",
      "              lowest 0.75\n",
      "               since 0.74\n",
      "             average 0.74\n",
      "             georgia 0.74\n",
      "                ohio 0.73\n",
      "False words\t     P(word | %)\n",
      "              barack 0.43\n",
      "                 gov 0.43\n",
      "                your 0.43\n",
      "                  my 0.43\n",
      "            stimulus 0.43\n",
      "                 her 0.43\n",
      "                 she 0.41\n",
      "           wisconsin 0.40\n",
      "               scott 0.38\n",
      "           obamacare 0.34\n"
     ]
    }
   ],
   "source": [
    "words = np.array(vectorization2.get_feature_names_out())\n",
    "\n",
    "x = np.eye(xv_test2.shape[1])\n",
    "probs = clf.predict_log_proba(x)[:, 0]\n",
    "ind = np.argsort(probs)\n",
    "\n",
    "good_words = words[ind[:10]]\n",
    "bad_words = words[ind[-10:]]\n",
    "\n",
    "good_prob = probs[ind[:10]]\n",
    "bad_prob = probs[ind[-10:]]\n",
    "\n",
    "m = []\n",
    "n = []\n",
    "s = []\n",
    "l = []\n",
    "print(\"True words\\t     P(word | %)\")\n",
    "for w, p in zip(good_words, good_prob):\n",
    "    m.append(w)\n",
    "    n.append(1 - np.exp(p))\n",
    "    print(\"{:>20}\".format(w), \"{:.2f}\".format(1 - np.exp(p)))\n",
    "    \n",
    "print(\"False words\\t     P(word | %)\")\n",
    "for w, p in zip(bad_words, bad_prob):\n",
    "    s.append(w)\n",
    "    l.append(1 - np.exp(p))\n",
    "    print(\"{:>20}\".format(w), \"{:.2f}\".format(1 - np.exp(p)))"
   ]
  },
  {
   "cell_type": "code",
   "execution_count": 40,
   "id": "e4f5da71-d0c7-4029-b178-66f164840e79",
   "metadata": {},
   "outputs": [
    {
     "data": {
      "text/plain": [
       "([0, 1, 2, 3, 4, 5, 6, 7, 8, 9],\n",
       " [Text(0, 0, 'half'),\n",
       "  Text(1, 0, '40'),\n",
       "  Text(2, 0, 'three'),\n",
       "  Text(3, 0, 'workers'),\n",
       "  Text(4, 0, 'weve'),\n",
       "  Text(5, 0, 'lowest'),\n",
       "  Text(6, 0, 'since'),\n",
       "  Text(7, 0, 'average'),\n",
       "  Text(8, 0, 'georgia'),\n",
       "  Text(9, 0, 'ohio')])"
      ]
     },
     "execution_count": 40,
     "metadata": {},
     "output_type": "execute_result"
    },
    {
     "data": {
      "image/png": "[encoded data removed]",
      "text/plain": [
       "<Figure size 640x480 with 1 Axes>"
      ]
     },
     "metadata": {},
     "output_type": "display_data"
    }
   ],
   "source": [
    "# most words that give True label. \n",
    "plt.plot(m, n)\n",
    "plt.xlabel('True words')\n",
    "plt.ylabel('%')\n",
    "plt.xticks(rotation=45)"
   ]
  },
  {
   "cell_type": "code",
   "execution_count": 41,
   "id": "2769ac9e-d052-449b-a951-302a2e999bd6",
   "metadata": {},
   "outputs": [
    {
     "data": {
      "text/plain": [
       "([0, 1, 2, 3, 4, 5, 6, 7, 8, 9],\n",
       " [Text(0, 0, 'barack'),\n",
       "  Text(1, 0, 'gov'),\n",
       "  Text(2, 0, 'your'),\n",
       "  Text(3, 0, 'my'),\n",
       "  Text(4, 0, 'stimulus'),\n",
       "  Text(5, 0, 'her'),\n",
       "  Text(6, 0, 'she'),\n",
       "  Text(7, 0, 'wisconsin'),\n",
       "  Text(8, 0, 'scott'),\n",
       "  Text(9, 0, 'obamacare')])"
      ]
     },
     "execution_count": 41,
     "metadata": {},
     "output_type": "execute_result"
    },
    {
     "data": {
      "image/png": "[encoded data removed]",
      "text/plain": [
       "<Figure size 640x480 with 1 Axes>"
      ]
     },
     "metadata": {},
     "output_type": "display_data"
    }
   ],
   "source": [
    "# most words that give False label\n",
    "plt.plot(s, l)\n",
    "plt.xlabel('False words')\n",
    "plt.ylabel('%')\n",
    "plt.xticks(rotation=45)"
   ]
  },
  {
   "cell_type": "code",
   "execution_count": 42,
   "id": "0ad037f6-34b9-4084-b44e-a6fa333f6c4e",
   "metadata": {},
   "outputs": [],
   "source": [
    "# we create a function that tell us for a given a word what is the True vs False difference. \n",
    "def extract_words(words):\n",
    "    for i in fake_news_data['statement']:\n",
    "        if words in i:\n",
    "            df = fake_news_data[fake_news_data['statement'].str.contains(words, case=False)]\n",
    "            return df['label'].value_counts()\n",
    "        else: \n",
    "            None "
   ]
  },
  {
   "cell_type": "code",
   "execution_count": 43,
   "id": "14969f3c-85b2-4c4f-9e9f-22ccc047f18b",
   "metadata": {},
   "outputs": [
    {
     "name": "stdout",
     "output_type": "stream",
     "text": [
      "label\n",
      "true     118\n",
      "false     35\n",
      "Name: count, dtype: int64\n"
     ]
    }
   ],
   "source": [
    "# This is for mostly True label. The word \"half\" has higher propobilty of giving True label\n",
    "j = extract_words('half')\n",
    "a = ['True', 'False']\n",
    "print(j)"
   ]
  },
  {
   "cell_type": "code",
   "execution_count": 44,
   "id": "b5ff2878-15de-4d0e-9f5d-8aa9374ec62e",
   "metadata": {},
   "outputs": [
    {
     "data": {
      "text/plain": [
       "<BarContainer object of 2 artists>"
      ]
     },
     "execution_count": 44,
     "metadata": {},
     "output_type": "execute_result"
    },
    {
     "data": {
      "image/png": "[encoded data removed]",
      "text/plain": [
       "<Figure size 640x480 with 1 Axes>"
      ]
     },
     "metadata": {},
     "output_type": "display_data"
    }
   ],
   "source": [
    "plt.bar(a, j)"
   ]
  },
  {
   "cell_type": "code",
   "execution_count": 45,
   "id": "2435cabf-c993-4a68-9143-f99f4958b2ad",
   "metadata": {},
   "outputs": [
    {
     "name": "stdout",
     "output_type": "stream",
     "text": [
      "label\n",
      "false    111\n",
      "true      55\n",
      "Name: count, dtype: int64\n"
     ]
    }
   ],
   "source": [
    "# This is for mostly False label. The word \"obamacare\" has higher propobilty of giving False label\n",
    "j = extract_words('obamacare')\n",
    "a = ['False', 'True']\n",
    "print(j)"
   ]
  },
  {
   "cell_type": "code",
   "execution_count": 46,
   "id": "e3f29cb6-456e-421e-b994-80ff22f1fca7",
   "metadata": {},
   "outputs": [
    {
     "data": {
      "text/plain": [
       "<BarContainer object of 2 artists>"
      ]
     },
     "execution_count": 46,
     "metadata": {},
     "output_type": "execute_result"
    },
    {
     "data": {
      "image/png": "[encoded data removed]",
      "text/plain": [
       "<Figure size 640x480 with 1 Axes>"
      ]
     },
     "metadata": {},
     "output_type": "display_data"
    }
   ],
   "source": [
    "plt.bar(a, j)"
   ]
  },
  {
   "cell_type": "code",
   "execution_count": 47,
   "id": "9ac2f043-9fd5-40a4-acc3-689a69048302",
   "metadata": {},
   "outputs": [
    {
     "data": {
      "text/html": [
       "<div>\n",
       "<style scoped>\n",
       "    .dataframe tbody tr th:only-of-type {\n",
       "        vertical-align: middle;\n",
       "    }\n",
       "\n",
       "    .dataframe tbody tr th {\n",
       "        vertical-align: top;\n",
       "    }\n",
       "\n",
       "    .dataframe thead th {\n",
       "        text-align: right;\n",
       "    }\n",
       "</style>\n",
       "<table border=\"1\" class=\"dataframe\">\n",
       "  <thead>\n",
       "    <tr style=\"text-align: right;\">\n",
       "      <th></th>\n",
       "      <th>barely_true_counts</th>\n",
       "      <th>false_counts</th>\n",
       "      <th>half_true_counts</th>\n",
       "      <th>mostly_true_counts</th>\n",
       "      <th>pants_on_fire_counts</th>\n",
       "      <th>sentiment_score</th>\n",
       "      <th>sentiment_magnitude</th>\n",
       "      <th>anger</th>\n",
       "      <th>fear</th>\n",
       "      <th>joy</th>\n",
       "      <th>disgust</th>\n",
       "      <th>sad</th>\n",
       "    </tr>\n",
       "  </thead>\n",
       "  <tbody>\n",
       "    <tr>\n",
       "      <th>barely_true_counts</th>\n",
       "      <td>1.000000</td>\n",
       "      <td>0.930198</td>\n",
       "      <td>0.909894</td>\n",
       "      <td>0.878463</td>\n",
       "      <td>0.658934</td>\n",
       "      <td>0.036579</td>\n",
       "      <td>0.023111</td>\n",
       "      <td>-0.008105</td>\n",
       "      <td>0.027937</td>\n",
       "      <td>0.026179</td>\n",
       "      <td>-0.001090</td>\n",
       "      <td>-0.028193</td>\n",
       "    </tr>\n",
       "    <tr>\n",
       "      <th>false_counts</th>\n",
       "      <td>0.930198</td>\n",
       "      <td>1.000000</td>\n",
       "      <td>0.758189</td>\n",
       "      <td>0.709616</td>\n",
       "      <td>0.853649</td>\n",
       "      <td>0.018957</td>\n",
       "      <td>0.034954</td>\n",
       "      <td>0.000342</td>\n",
       "      <td>0.022931</td>\n",
       "      <td>0.021519</td>\n",
       "      <td>0.007942</td>\n",
       "      <td>-0.020125</td>\n",
       "    </tr>\n",
       "    <tr>\n",
       "      <th>half_true_counts</th>\n",
       "      <td>0.909894</td>\n",
       "      <td>0.758189</td>\n",
       "      <td>1.000000</td>\n",
       "      <td>0.987199</td>\n",
       "      <td>0.363028</td>\n",
       "      <td>0.059422</td>\n",
       "      <td>0.000622</td>\n",
       "      <td>-0.035051</td>\n",
       "      <td>0.019036</td>\n",
       "      <td>0.036244</td>\n",
       "      <td>-0.021690</td>\n",
       "      <td>-0.025744</td>\n",
       "    </tr>\n",
       "    <tr>\n",
       "      <th>mostly_true_counts</th>\n",
       "      <td>0.878463</td>\n",
       "      <td>0.709616</td>\n",
       "      <td>0.987199</td>\n",
       "      <td>1.000000</td>\n",
       "      <td>0.275220</td>\n",
       "      <td>0.063855</td>\n",
       "      <td>-0.004824</td>\n",
       "      <td>-0.035261</td>\n",
       "      <td>0.017028</td>\n",
       "      <td>0.034201</td>\n",
       "      <td>-0.018067</td>\n",
       "      <td>-0.028617</td>\n",
       "    </tr>\n",
       "    <tr>\n",
       "      <th>pants_on_fire_counts</th>\n",
       "      <td>0.658934</td>\n",
       "      <td>0.853649</td>\n",
       "      <td>0.363028</td>\n",
       "      <td>0.275220</td>\n",
       "      <td>1.000000</td>\n",
       "      <td>-0.017588</td>\n",
       "      <td>0.053887</td>\n",
       "      <td>0.023057</td>\n",
       "      <td>0.023146</td>\n",
       "      <td>0.009101</td>\n",
       "      <td>0.019786</td>\n",
       "      <td>-0.004245</td>\n",
       "    </tr>\n",
       "    <tr>\n",
       "      <th>sentiment_score</th>\n",
       "      <td>0.036579</td>\n",
       "      <td>0.018957</td>\n",
       "      <td>0.059422</td>\n",
       "      <td>0.063855</td>\n",
       "      <td>-0.017588</td>\n",
       "      <td>1.000000</td>\n",
       "      <td>-0.500247</td>\n",
       "      <td>-0.265495</td>\n",
       "      <td>-0.086879</td>\n",
       "      <td>0.366963</td>\n",
       "      <td>-0.202107</td>\n",
       "      <td>-0.249380</td>\n",
       "    </tr>\n",
       "    <tr>\n",
       "      <th>sentiment_magnitude</th>\n",
       "      <td>0.023111</td>\n",
       "      <td>0.034954</td>\n",
       "      <td>0.000622</td>\n",
       "      <td>-0.004824</td>\n",
       "      <td>0.053887</td>\n",
       "      <td>-0.500247</td>\n",
       "      <td>1.000000</td>\n",
       "      <td>0.180842</td>\n",
       "      <td>0.049442</td>\n",
       "      <td>-0.144297</td>\n",
       "      <td>0.113508</td>\n",
       "      <td>0.157024</td>\n",
       "    </tr>\n",
       "    <tr>\n",
       "      <th>anger</th>\n",
       "      <td>-0.008105</td>\n",
       "      <td>0.000342</td>\n",
       "      <td>-0.035051</td>\n",
       "      <td>-0.035261</td>\n",
       "      <td>0.023057</td>\n",
       "      <td>-0.265495</td>\n",
       "      <td>0.180842</td>\n",
       "      <td>1.000000</td>\n",
       "      <td>0.077829</td>\n",
       "      <td>-0.401064</td>\n",
       "      <td>0.321444</td>\n",
       "      <td>-0.003058</td>\n",
       "    </tr>\n",
       "    <tr>\n",
       "      <th>fear</th>\n",
       "      <td>0.027937</td>\n",
       "      <td>0.022931</td>\n",
       "      <td>0.019036</td>\n",
       "      <td>0.017028</td>\n",
       "      <td>0.023146</td>\n",
       "      <td>-0.086879</td>\n",
       "      <td>0.049442</td>\n",
       "      <td>0.077829</td>\n",
       "      <td>1.000000</td>\n",
       "      <td>-0.243649</td>\n",
       "      <td>-0.115451</td>\n",
       "      <td>0.167413</td>\n",
       "    </tr>\n",
       "    <tr>\n",
       "      <th>joy</th>\n",
       "      <td>0.026179</td>\n",
       "      <td>0.021519</td>\n",
       "      <td>0.036244</td>\n",
       "      <td>0.034201</td>\n",
       "      <td>0.009101</td>\n",
       "      <td>0.366963</td>\n",
       "      <td>-0.144297</td>\n",
       "      <td>-0.401064</td>\n",
       "      <td>-0.243649</td>\n",
       "      <td>1.000000</td>\n",
       "      <td>-0.390364</td>\n",
       "      <td>-0.327076</td>\n",
       "    </tr>\n",
       "    <tr>\n",
       "      <th>disgust</th>\n",
       "      <td>-0.001090</td>\n",
       "      <td>0.007942</td>\n",
       "      <td>-0.021690</td>\n",
       "      <td>-0.018067</td>\n",
       "      <td>0.019786</td>\n",
       "      <td>-0.202107</td>\n",
       "      <td>0.113508</td>\n",
       "      <td>0.321444</td>\n",
       "      <td>-0.115451</td>\n",
       "      <td>-0.390364</td>\n",
       "      <td>1.000000</td>\n",
       "      <td>-0.063956</td>\n",
       "    </tr>\n",
       "    <tr>\n",
       "      <th>sad</th>\n",
       "      <td>-0.028193</td>\n",
       "      <td>-0.020125</td>\n",
       "      <td>-0.025744</td>\n",
       "      <td>-0.028617</td>\n",
       "      <td>-0.004245</td>\n",
       "      <td>-0.249380</td>\n",
       "      <td>0.157024</td>\n",
       "      <td>-0.003058</td>\n",
       "      <td>0.167413</td>\n",
       "      <td>-0.327076</td>\n",
       "      <td>-0.063956</td>\n",
       "      <td>1.000000</td>\n",
       "    </tr>\n",
       "  </tbody>\n",
       "</table>\n",
       "</div>"
      ],
      "text/plain": [
       "                      barely_true_counts  false_counts  half_true_counts  \\\n",
       "barely_true_counts              1.000000      0.930198          0.909894   \n",
       "false_counts                    0.930198      1.000000          0.758189   \n",
       "half_true_counts                0.909894      0.758189          1.000000   \n",
       "mostly_true_counts              0.878463      0.709616          0.987199   \n",
       "pants_on_fire_counts            0.658934      0.853649          0.363028   \n",
       "sentiment_score                 0.036579      0.018957          0.059422   \n",
       "sentiment_magnitude             0.023111      0.034954          0.000622   \n",
       "anger                          -0.008105      0.000342         -0.035051   \n",
       "fear                            0.027937      0.022931          0.019036   \n",
       "joy                             0.026179      0.021519          0.036244   \n",
       "disgust                        -0.001090      0.007942         -0.021690   \n",
       "sad                            -0.028193     -0.020125         -0.025744   \n",
       "\n",
       "                      mostly_true_counts  pants_on_fire_counts  \\\n",
       "barely_true_counts              0.878463              0.658934   \n",
       "false_counts                    0.709616              0.853649   \n",
       "half_true_counts                0.987199              0.363028   \n",
       "mostly_true_counts              1.000000              0.275220   \n",
       "pants_on_fire_counts            0.275220              1.000000   \n",
       "sentiment_score                 0.063855             -0.017588   \n",
       "sentiment_magnitude            -0.004824              0.053887   \n",
       "anger                          -0.035261              0.023057   \n",
       "fear                            0.017028              0.023146   \n",
       "joy                             0.034201              0.009101   \n",
       "disgust                        -0.018067              0.019786   \n",
       "sad                            -0.028617             -0.004245   \n",
       "\n",
       "                      sentiment_score  sentiment_magnitude     anger  \\\n",
       "barely_true_counts           0.036579             0.023111 -0.008105   \n",
       "false_counts                 0.018957             0.034954  0.000342   \n",
       "half_true_counts             0.059422             0.000622 -0.035051   \n",
       "mostly_true_counts           0.063855            -0.004824 -0.035261   \n",
       "pants_on_fire_counts        -0.017588             0.053887  0.023057   \n",
       "sentiment_score              1.000000            -0.500247 -0.265495   \n",
       "sentiment_magnitude         -0.500247             1.000000  0.180842   \n",
       "anger                       -0.265495             0.180842  1.000000   \n",
       "fear                        -0.086879             0.049442  0.077829   \n",
       "joy                          0.366963            -0.144297 -0.401064   \n",
       "disgust                     -0.202107             0.113508  0.321444   \n",
       "sad                         -0.249380             0.157024 -0.003058   \n",
       "\n",
       "                          fear       joy   disgust       sad  \n",
       "barely_true_counts    0.027937  0.026179 -0.001090 -0.028193  \n",
       "false_counts          0.022931  0.021519  0.007942 -0.020125  \n",
       "half_true_counts      0.019036  0.036244 -0.021690 -0.025744  \n",
       "mostly_true_counts    0.017028  0.034201 -0.018067 -0.028617  \n",
       "pants_on_fire_counts  0.023146  0.009101  0.019786 -0.004245  \n",
       "sentiment_score      -0.086879  0.366963 -0.202107 -0.249380  \n",
       "sentiment_magnitude   0.049442 -0.144297  0.113508  0.157024  \n",
       "anger                 0.077829 -0.401064  0.321444 -0.003058  \n",
       "fear                  1.000000 -0.243649 -0.115451  0.167413  \n",
       "joy                  -0.243649  1.000000 -0.390364 -0.327076  \n",
       "disgust              -0.115451 -0.390364  1.000000 -0.063956  \n",
       "sad                   0.167413 -0.327076 -0.063956  1.000000  "
      ]
     },
     "execution_count": 47,
     "metadata": {},
     "output_type": "execute_result"
    }
   ],
   "source": [
    "# we want to see what features are correlated\n",
    "corrl = fake_news_data[['barely_true_counts', 'false_counts', 'half_true_counts', 'mostly_true_counts', 'pants_on_fire_counts', 'sentiment_score', 'sentiment_magnitude', 'anger', 'fear', 'joy', 'disgust', 'sad']]\n",
    "corrl.corr()"
   ]
  },
  {
   "cell_type": "code",
   "execution_count": 48,
   "id": "019c6a80-1cb3-48cd-b0bf-5d3b89ba9931",
   "metadata": {},
   "outputs": [
    {
     "data": {
      "text/plain": [
       "<Axes: >"
      ]
     },
     "execution_count": 48,
     "metadata": {},
     "output_type": "execute_result"
    },
    {
     "data": {
      "image/png": "[encoded data removed]",
      "text/plain": [
       "<Figure size 640x480 with 2 Axes>"
      ]
     },
     "metadata": {},
     "output_type": "display_data"
    }
   ],
   "source": [
    "sns.heatmap(corrl.corr())"
   ]
  }
 ],
 "metadata": {
  "kernelspec": {
   "display_name": "Python 3 (ipykernel)",
   "language": "python",
   "name": "python3"
  },
  "language_info": {
   "codemirror_mode": {
    "name": "ipython",
    "version": 3
   },
   "file_extension": ".py",
   "mimetype": "text/x-python",
   "name": "python",
   "nbconvert_exporter": "python",
   "pygments_lexer": "ipython3",
   "version": "3.12.4"
  }
 },
 "nbformat": 4,
 "nbformat_minor": 5
}
